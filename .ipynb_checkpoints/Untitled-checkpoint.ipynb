{
 "cells": [
  {
   "cell_type": "code",
   "execution_count": 1,
   "id": "3c9dbf5a-9f64-438d-a612-b72910d8708a",
   "metadata": {},
   "outputs": [],
   "source": [
    "import pandas as pd\n",
    "import numpy as np\n",
    "\n",
    "import matplotlib.pyplot as plt"
   ]
  },
  {
   "cell_type": "code",
   "execution_count": 2,
   "id": "4e0cf7e3-44ac-4bc8-83dd-b4d96c8fcc24",
   "metadata": {},
   "outputs": [
    {
     "data": {
      "text/html": [
       "<div>\n",
       "<style scoped>\n",
       "    .dataframe tbody tr th:only-of-type {\n",
       "        vertical-align: middle;\n",
       "    }\n",
       "\n",
       "    .dataframe tbody tr th {\n",
       "        vertical-align: top;\n",
       "    }\n",
       "\n",
       "    .dataframe thead th {\n",
       "        text-align: right;\n",
       "    }\n",
       "</style>\n",
       "<table border=\"1\" class=\"dataframe\">\n",
       "  <thead>\n",
       "    <tr style=\"text-align: right;\">\n",
       "      <th></th>\n",
       "      <th>Age</th>\n",
       "      <th>Sex</th>\n",
       "      <th>Chest pain type</th>\n",
       "      <th>BP</th>\n",
       "      <th>Cholesterol</th>\n",
       "      <th>FBS over 120</th>\n",
       "      <th>EKG results</th>\n",
       "      <th>Max HR</th>\n",
       "      <th>Exercise angina</th>\n",
       "      <th>ST depression</th>\n",
       "      <th>Slope of ST</th>\n",
       "      <th>Number of vessels fluro</th>\n",
       "      <th>Thallium</th>\n",
       "      <th>Heart Disease</th>\n",
       "    </tr>\n",
       "  </thead>\n",
       "  <tbody>\n",
       "    <tr>\n",
       "      <th>0</th>\n",
       "      <td>70</td>\n",
       "      <td>1</td>\n",
       "      <td>4</td>\n",
       "      <td>130</td>\n",
       "      <td>322</td>\n",
       "      <td>0</td>\n",
       "      <td>2</td>\n",
       "      <td>109</td>\n",
       "      <td>0</td>\n",
       "      <td>2.4</td>\n",
       "      <td>2</td>\n",
       "      <td>3</td>\n",
       "      <td>3</td>\n",
       "      <td>Presence</td>\n",
       "    </tr>\n",
       "    <tr>\n",
       "      <th>1</th>\n",
       "      <td>80</td>\n",
       "      <td>0</td>\n",
       "      <td>3</td>\n",
       "      <td>115</td>\n",
       "      <td>564</td>\n",
       "      <td>0</td>\n",
       "      <td>2</td>\n",
       "      <td>160</td>\n",
       "      <td>0</td>\n",
       "      <td>1.6</td>\n",
       "      <td>2</td>\n",
       "      <td>0</td>\n",
       "      <td>7</td>\n",
       "      <td>Absence</td>\n",
       "    </tr>\n",
       "    <tr>\n",
       "      <th>2</th>\n",
       "      <td>55</td>\n",
       "      <td>1</td>\n",
       "      <td>2</td>\n",
       "      <td>124</td>\n",
       "      <td>261</td>\n",
       "      <td>0</td>\n",
       "      <td>0</td>\n",
       "      <td>141</td>\n",
       "      <td>0</td>\n",
       "      <td>0.3</td>\n",
       "      <td>1</td>\n",
       "      <td>0</td>\n",
       "      <td>7</td>\n",
       "      <td>Presence</td>\n",
       "    </tr>\n",
       "    <tr>\n",
       "      <th>3</th>\n",
       "      <td>65</td>\n",
       "      <td>1</td>\n",
       "      <td>4</td>\n",
       "      <td>128</td>\n",
       "      <td>263</td>\n",
       "      <td>0</td>\n",
       "      <td>0</td>\n",
       "      <td>105</td>\n",
       "      <td>1</td>\n",
       "      <td>0.2</td>\n",
       "      <td>2</td>\n",
       "      <td>1</td>\n",
       "      <td>7</td>\n",
       "      <td>Absence</td>\n",
       "    </tr>\n",
       "    <tr>\n",
       "      <th>4</th>\n",
       "      <td>45</td>\n",
       "      <td>0</td>\n",
       "      <td>2</td>\n",
       "      <td>120</td>\n",
       "      <td>269</td>\n",
       "      <td>0</td>\n",
       "      <td>2</td>\n",
       "      <td>121</td>\n",
       "      <td>1</td>\n",
       "      <td>0.2</td>\n",
       "      <td>1</td>\n",
       "      <td>1</td>\n",
       "      <td>3</td>\n",
       "      <td>Absence</td>\n",
       "    </tr>\n",
       "  </tbody>\n",
       "</table>\n",
       "</div>"
      ],
      "text/plain": [
       "   Age  Sex  Chest pain type   BP  Cholesterol  FBS over 120  EKG results  \\\n",
       "0   70    1                4  130          322             0            2   \n",
       "1   80    0                3  115          564             0            2   \n",
       "2   55    1                2  124          261             0            0   \n",
       "3   65    1                4  128          263             0            0   \n",
       "4   45    0                2  120          269             0            2   \n",
       "\n",
       "   Max HR  Exercise angina  ST depression  Slope of ST  \\\n",
       "0     109                0            2.4            2   \n",
       "1     160                0            1.6            2   \n",
       "2     141                0            0.3            1   \n",
       "3     105                1            0.2            2   \n",
       "4     121                1            0.2            1   \n",
       "\n",
       "   Number of vessels fluro  Thallium Heart Disease  \n",
       "0                        3         3      Presence  \n",
       "1                        0         7       Absence  \n",
       "2                        0         7      Presence  \n",
       "3                        1         7       Absence  \n",
       "4                        1         3       Absence  "
      ]
     },
     "execution_count": 2,
     "metadata": {},
     "output_type": "execute_result"
    }
   ],
   "source": [
    "df = pd.read_csv('Heart_Disease_Prediction.csv')\n",
    "df.head()"
   ]
  },
  {
   "cell_type": "code",
   "execution_count": 3,
   "id": "a0d78b85-97b3-4124-9c30-39efb7df6da2",
   "metadata": {},
   "outputs": [],
   "source": [
    "df.columns = df.columns.str.lower().str.replace(' ', '_')\n",
    "\n",
    "categorical_columns = list(df.dtypes[df.dtypes == 'object'].index)\n",
    "\n",
    "for c in categorical_columns:\n",
    "    df[c] = df[c].str.lower().str.replace(' ', '_')"
   ]
  },
  {
   "cell_type": "code",
   "execution_count": 4,
   "id": "70aeebf2-083e-497e-99b9-059a5847d895",
   "metadata": {},
   "outputs": [
    {
     "data": {
      "text/html": [
       "<div>\n",
       "<style scoped>\n",
       "    .dataframe tbody tr th:only-of-type {\n",
       "        vertical-align: middle;\n",
       "    }\n",
       "\n",
       "    .dataframe tbody tr th {\n",
       "        vertical-align: top;\n",
       "    }\n",
       "\n",
       "    .dataframe thead th {\n",
       "        text-align: right;\n",
       "    }\n",
       "</style>\n",
       "<table border=\"1\" class=\"dataframe\">\n",
       "  <thead>\n",
       "    <tr style=\"text-align: right;\">\n",
       "      <th></th>\n",
       "      <th>age</th>\n",
       "      <th>sex</th>\n",
       "      <th>chest_pain_type</th>\n",
       "      <th>bp</th>\n",
       "      <th>cholesterol</th>\n",
       "      <th>fbs_over_120</th>\n",
       "      <th>ekg_results</th>\n",
       "      <th>max_hr</th>\n",
       "      <th>exercise_angina</th>\n",
       "      <th>st_depression</th>\n",
       "      <th>slope_of_st</th>\n",
       "      <th>number_of_vessels_fluro</th>\n",
       "      <th>thallium</th>\n",
       "      <th>heart_disease</th>\n",
       "    </tr>\n",
       "  </thead>\n",
       "  <tbody>\n",
       "    <tr>\n",
       "      <th>0</th>\n",
       "      <td>70</td>\n",
       "      <td>1</td>\n",
       "      <td>4</td>\n",
       "      <td>130</td>\n",
       "      <td>322</td>\n",
       "      <td>0</td>\n",
       "      <td>2</td>\n",
       "      <td>109</td>\n",
       "      <td>0</td>\n",
       "      <td>2.4</td>\n",
       "      <td>2</td>\n",
       "      <td>3</td>\n",
       "      <td>3</td>\n",
       "      <td>presence</td>\n",
       "    </tr>\n",
       "    <tr>\n",
       "      <th>1</th>\n",
       "      <td>80</td>\n",
       "      <td>0</td>\n",
       "      <td>3</td>\n",
       "      <td>115</td>\n",
       "      <td>564</td>\n",
       "      <td>0</td>\n",
       "      <td>2</td>\n",
       "      <td>160</td>\n",
       "      <td>0</td>\n",
       "      <td>1.6</td>\n",
       "      <td>2</td>\n",
       "      <td>0</td>\n",
       "      <td>7</td>\n",
       "      <td>absence</td>\n",
       "    </tr>\n",
       "    <tr>\n",
       "      <th>2</th>\n",
       "      <td>55</td>\n",
       "      <td>1</td>\n",
       "      <td>2</td>\n",
       "      <td>124</td>\n",
       "      <td>261</td>\n",
       "      <td>0</td>\n",
       "      <td>0</td>\n",
       "      <td>141</td>\n",
       "      <td>0</td>\n",
       "      <td>0.3</td>\n",
       "      <td>1</td>\n",
       "      <td>0</td>\n",
       "      <td>7</td>\n",
       "      <td>presence</td>\n",
       "    </tr>\n",
       "    <tr>\n",
       "      <th>3</th>\n",
       "      <td>65</td>\n",
       "      <td>1</td>\n",
       "      <td>4</td>\n",
       "      <td>128</td>\n",
       "      <td>263</td>\n",
       "      <td>0</td>\n",
       "      <td>0</td>\n",
       "      <td>105</td>\n",
       "      <td>1</td>\n",
       "      <td>0.2</td>\n",
       "      <td>2</td>\n",
       "      <td>1</td>\n",
       "      <td>7</td>\n",
       "      <td>absence</td>\n",
       "    </tr>\n",
       "    <tr>\n",
       "      <th>4</th>\n",
       "      <td>45</td>\n",
       "      <td>0</td>\n",
       "      <td>2</td>\n",
       "      <td>120</td>\n",
       "      <td>269</td>\n",
       "      <td>0</td>\n",
       "      <td>2</td>\n",
       "      <td>121</td>\n",
       "      <td>1</td>\n",
       "      <td>0.2</td>\n",
       "      <td>1</td>\n",
       "      <td>1</td>\n",
       "      <td>3</td>\n",
       "      <td>absence</td>\n",
       "    </tr>\n",
       "  </tbody>\n",
       "</table>\n",
       "</div>"
      ],
      "text/plain": [
       "   age  sex  chest_pain_type   bp  cholesterol  fbs_over_120  ekg_results  \\\n",
       "0   70    1                4  130          322             0            2   \n",
       "1   80    0                3  115          564             0            2   \n",
       "2   55    1                2  124          261             0            0   \n",
       "3   65    1                4  128          263             0            0   \n",
       "4   45    0                2  120          269             0            2   \n",
       "\n",
       "   max_hr  exercise_angina  st_depression  slope_of_st  \\\n",
       "0     109                0            2.4            2   \n",
       "1     160                0            1.6            2   \n",
       "2     141                0            0.3            1   \n",
       "3     105                1            0.2            2   \n",
       "4     121                1            0.2            1   \n",
       "\n",
       "   number_of_vessels_fluro  thallium heart_disease  \n",
       "0                        3         3      presence  \n",
       "1                        0         7       absence  \n",
       "2                        0         7      presence  \n",
       "3                        1         7       absence  \n",
       "4                        1         3       absence  "
      ]
     },
     "execution_count": 4,
     "metadata": {},
     "output_type": "execute_result"
    }
   ],
   "source": [
    "df.head()"
   ]
  },
  {
   "cell_type": "code",
   "execution_count": 5,
   "id": "6d384cca-8787-4d44-8297-e0ebc12f4cbc",
   "metadata": {},
   "outputs": [],
   "source": [
    "sex_values = {\n",
    "    0: \"female\",\n",
    "    1: \"male\"\n",
    "}\n",
    "df.sex = df.sex.map(sex_values)\n",
    "\n",
    "fbs_values = {\n",
    "    0: \"false\",\n",
    "    1: \"true\"\n",
    "}\n",
    "df.fbs_over_120 = df.fbs_over_120.map(fbs_values)\n",
    "\n",
    "exercise_angina_values = {\n",
    "    0: \"no\",\n",
    "    1: \"yes\"\n",
    "}\n",
    "df.exercise_angina = df.exercise_angina.map(exercise_angina_values)\n"
   ]
  },
  {
   "cell_type": "code",
   "execution_count": 6,
   "id": "fd2cd4a3-364b-4000-8915-3482716ef342",
   "metadata": {},
   "outputs": [
    {
     "data": {
      "text/html": [
       "<div>\n",
       "<style scoped>\n",
       "    .dataframe tbody tr th:only-of-type {\n",
       "        vertical-align: middle;\n",
       "    }\n",
       "\n",
       "    .dataframe tbody tr th {\n",
       "        vertical-align: top;\n",
       "    }\n",
       "\n",
       "    .dataframe thead th {\n",
       "        text-align: right;\n",
       "    }\n",
       "</style>\n",
       "<table border=\"1\" class=\"dataframe\">\n",
       "  <thead>\n",
       "    <tr style=\"text-align: right;\">\n",
       "      <th></th>\n",
       "      <th>age</th>\n",
       "      <th>sex</th>\n",
       "      <th>chest_pain_type</th>\n",
       "      <th>bp</th>\n",
       "      <th>cholesterol</th>\n",
       "      <th>fbs_over_120</th>\n",
       "      <th>ekg_results</th>\n",
       "      <th>max_hr</th>\n",
       "      <th>exercise_angina</th>\n",
       "      <th>st_depression</th>\n",
       "      <th>slope_of_st</th>\n",
       "      <th>number_of_vessels_fluro</th>\n",
       "      <th>thallium</th>\n",
       "      <th>heart_disease</th>\n",
       "    </tr>\n",
       "  </thead>\n",
       "  <tbody>\n",
       "    <tr>\n",
       "      <th>0</th>\n",
       "      <td>70</td>\n",
       "      <td>male</td>\n",
       "      <td>4</td>\n",
       "      <td>130</td>\n",
       "      <td>322</td>\n",
       "      <td>false</td>\n",
       "      <td>2</td>\n",
       "      <td>109</td>\n",
       "      <td>no</td>\n",
       "      <td>2.4</td>\n",
       "      <td>2</td>\n",
       "      <td>3</td>\n",
       "      <td>3</td>\n",
       "      <td>presence</td>\n",
       "    </tr>\n",
       "    <tr>\n",
       "      <th>1</th>\n",
       "      <td>80</td>\n",
       "      <td>female</td>\n",
       "      <td>3</td>\n",
       "      <td>115</td>\n",
       "      <td>564</td>\n",
       "      <td>false</td>\n",
       "      <td>2</td>\n",
       "      <td>160</td>\n",
       "      <td>no</td>\n",
       "      <td>1.6</td>\n",
       "      <td>2</td>\n",
       "      <td>0</td>\n",
       "      <td>7</td>\n",
       "      <td>absence</td>\n",
       "    </tr>\n",
       "    <tr>\n",
       "      <th>2</th>\n",
       "      <td>55</td>\n",
       "      <td>male</td>\n",
       "      <td>2</td>\n",
       "      <td>124</td>\n",
       "      <td>261</td>\n",
       "      <td>false</td>\n",
       "      <td>0</td>\n",
       "      <td>141</td>\n",
       "      <td>no</td>\n",
       "      <td>0.3</td>\n",
       "      <td>1</td>\n",
       "      <td>0</td>\n",
       "      <td>7</td>\n",
       "      <td>presence</td>\n",
       "    </tr>\n",
       "    <tr>\n",
       "      <th>3</th>\n",
       "      <td>65</td>\n",
       "      <td>male</td>\n",
       "      <td>4</td>\n",
       "      <td>128</td>\n",
       "      <td>263</td>\n",
       "      <td>false</td>\n",
       "      <td>0</td>\n",
       "      <td>105</td>\n",
       "      <td>yes</td>\n",
       "      <td>0.2</td>\n",
       "      <td>2</td>\n",
       "      <td>1</td>\n",
       "      <td>7</td>\n",
       "      <td>absence</td>\n",
       "    </tr>\n",
       "    <tr>\n",
       "      <th>4</th>\n",
       "      <td>45</td>\n",
       "      <td>female</td>\n",
       "      <td>2</td>\n",
       "      <td>120</td>\n",
       "      <td>269</td>\n",
       "      <td>false</td>\n",
       "      <td>2</td>\n",
       "      <td>121</td>\n",
       "      <td>yes</td>\n",
       "      <td>0.2</td>\n",
       "      <td>1</td>\n",
       "      <td>1</td>\n",
       "      <td>3</td>\n",
       "      <td>absence</td>\n",
       "    </tr>\n",
       "  </tbody>\n",
       "</table>\n",
       "</div>"
      ],
      "text/plain": [
       "   age     sex  chest_pain_type   bp  cholesterol fbs_over_120  ekg_results  \\\n",
       "0   70    male                4  130          322        false            2   \n",
       "1   80  female                3  115          564        false            2   \n",
       "2   55    male                2  124          261        false            0   \n",
       "3   65    male                4  128          263        false            0   \n",
       "4   45  female                2  120          269        false            2   \n",
       "\n",
       "   max_hr exercise_angina  st_depression  slope_of_st  \\\n",
       "0     109              no            2.4            2   \n",
       "1     160              no            1.6            2   \n",
       "2     141              no            0.3            1   \n",
       "3     105             yes            0.2            2   \n",
       "4     121             yes            0.2            1   \n",
       "\n",
       "   number_of_vessels_fluro  thallium heart_disease  \n",
       "0                        3         3      presence  \n",
       "1                        0         7       absence  \n",
       "2                        0         7      presence  \n",
       "3                        1         7       absence  \n",
       "4                        1         3       absence  "
      ]
     },
     "execution_count": 6,
     "metadata": {},
     "output_type": "execute_result"
    }
   ],
   "source": [
    "df.head()"
   ]
  },
  {
   "cell_type": "code",
   "execution_count": 7,
   "id": "e1ff8ccd-b02d-445b-93c1-cb90a977381a",
   "metadata": {},
   "outputs": [],
   "source": [
    "df.heart_disease = (df.heart_disease == \"presence\").astype(int)"
   ]
  },
  {
   "cell_type": "code",
   "execution_count": 8,
   "id": "2534a149-6e77-4e91-9104-e79541b5a83d",
   "metadata": {},
   "outputs": [
    {
     "data": {
      "text/html": [
       "<div>\n",
       "<style scoped>\n",
       "    .dataframe tbody tr th:only-of-type {\n",
       "        vertical-align: middle;\n",
       "    }\n",
       "\n",
       "    .dataframe tbody tr th {\n",
       "        vertical-align: top;\n",
       "    }\n",
       "\n",
       "    .dataframe thead th {\n",
       "        text-align: right;\n",
       "    }\n",
       "</style>\n",
       "<table border=\"1\" class=\"dataframe\">\n",
       "  <thead>\n",
       "    <tr style=\"text-align: right;\">\n",
       "      <th></th>\n",
       "      <th>age</th>\n",
       "      <th>sex</th>\n",
       "      <th>chest_pain_type</th>\n",
       "      <th>bp</th>\n",
       "      <th>cholesterol</th>\n",
       "      <th>fbs_over_120</th>\n",
       "      <th>ekg_results</th>\n",
       "      <th>max_hr</th>\n",
       "      <th>exercise_angina</th>\n",
       "      <th>st_depression</th>\n",
       "      <th>slope_of_st</th>\n",
       "      <th>number_of_vessels_fluro</th>\n",
       "      <th>thallium</th>\n",
       "      <th>heart_disease</th>\n",
       "    </tr>\n",
       "  </thead>\n",
       "  <tbody>\n",
       "    <tr>\n",
       "      <th>0</th>\n",
       "      <td>70</td>\n",
       "      <td>male</td>\n",
       "      <td>4</td>\n",
       "      <td>130</td>\n",
       "      <td>322</td>\n",
       "      <td>false</td>\n",
       "      <td>2</td>\n",
       "      <td>109</td>\n",
       "      <td>no</td>\n",
       "      <td>2.4</td>\n",
       "      <td>2</td>\n",
       "      <td>3</td>\n",
       "      <td>3</td>\n",
       "      <td>1</td>\n",
       "    </tr>\n",
       "    <tr>\n",
       "      <th>1</th>\n",
       "      <td>80</td>\n",
       "      <td>female</td>\n",
       "      <td>3</td>\n",
       "      <td>115</td>\n",
       "      <td>564</td>\n",
       "      <td>false</td>\n",
       "      <td>2</td>\n",
       "      <td>160</td>\n",
       "      <td>no</td>\n",
       "      <td>1.6</td>\n",
       "      <td>2</td>\n",
       "      <td>0</td>\n",
       "      <td>7</td>\n",
       "      <td>0</td>\n",
       "    </tr>\n",
       "    <tr>\n",
       "      <th>2</th>\n",
       "      <td>55</td>\n",
       "      <td>male</td>\n",
       "      <td>2</td>\n",
       "      <td>124</td>\n",
       "      <td>261</td>\n",
       "      <td>false</td>\n",
       "      <td>0</td>\n",
       "      <td>141</td>\n",
       "      <td>no</td>\n",
       "      <td>0.3</td>\n",
       "      <td>1</td>\n",
       "      <td>0</td>\n",
       "      <td>7</td>\n",
       "      <td>1</td>\n",
       "    </tr>\n",
       "    <tr>\n",
       "      <th>3</th>\n",
       "      <td>65</td>\n",
       "      <td>male</td>\n",
       "      <td>4</td>\n",
       "      <td>128</td>\n",
       "      <td>263</td>\n",
       "      <td>false</td>\n",
       "      <td>0</td>\n",
       "      <td>105</td>\n",
       "      <td>yes</td>\n",
       "      <td>0.2</td>\n",
       "      <td>2</td>\n",
       "      <td>1</td>\n",
       "      <td>7</td>\n",
       "      <td>0</td>\n",
       "    </tr>\n",
       "    <tr>\n",
       "      <th>4</th>\n",
       "      <td>45</td>\n",
       "      <td>female</td>\n",
       "      <td>2</td>\n",
       "      <td>120</td>\n",
       "      <td>269</td>\n",
       "      <td>false</td>\n",
       "      <td>2</td>\n",
       "      <td>121</td>\n",
       "      <td>yes</td>\n",
       "      <td>0.2</td>\n",
       "      <td>1</td>\n",
       "      <td>1</td>\n",
       "      <td>3</td>\n",
       "      <td>0</td>\n",
       "    </tr>\n",
       "  </tbody>\n",
       "</table>\n",
       "</div>"
      ],
      "text/plain": [
       "   age     sex  chest_pain_type   bp  cholesterol fbs_over_120  ekg_results  \\\n",
       "0   70    male                4  130          322        false            2   \n",
       "1   80  female                3  115          564        false            2   \n",
       "2   55    male                2  124          261        false            0   \n",
       "3   65    male                4  128          263        false            0   \n",
       "4   45  female                2  120          269        false            2   \n",
       "\n",
       "   max_hr exercise_angina  st_depression  slope_of_st  \\\n",
       "0     109              no            2.4            2   \n",
       "1     160              no            1.6            2   \n",
       "2     141              no            0.3            1   \n",
       "3     105             yes            0.2            2   \n",
       "4     121             yes            0.2            1   \n",
       "\n",
       "   number_of_vessels_fluro  thallium  heart_disease  \n",
       "0                        3         3              1  \n",
       "1                        0         7              0  \n",
       "2                        0         7              1  \n",
       "3                        1         7              0  \n",
       "4                        1         3              0  "
      ]
     },
     "execution_count": 8,
     "metadata": {},
     "output_type": "execute_result"
    }
   ],
   "source": [
    "df.head()"
   ]
  },
  {
   "cell_type": "code",
   "execution_count": 9,
   "id": "80444fe3-a359-489a-8060-48817217cb81",
   "metadata": {},
   "outputs": [],
   "source": [
    "from sklearn.model_selection import train_test_split"
   ]
  },
  {
   "cell_type": "code",
   "execution_count": 10,
   "id": "962a088c-a354-4b35-927a-188d5c3c98eb",
   "metadata": {},
   "outputs": [],
   "source": [
    "df_full_train, df_test = train_test_split(df, test_size=0.2, random_state=1)"
   ]
  },
  {
   "cell_type": "code",
   "execution_count": 11,
   "id": "c797a0c0-d339-462b-8bb8-437b881c99af",
   "metadata": {},
   "outputs": [],
   "source": [
    "df_train, df_val = train_test_split(df_full_train, test_size=0.25, random_state=1)"
   ]
  },
  {
   "cell_type": "code",
   "execution_count": 12,
   "id": "741c5ccf-2575-40b7-bdb5-9b6434a81717",
   "metadata": {},
   "outputs": [
    {
     "data": {
      "text/plain": [
       "(162, 54, 54)"
      ]
     },
     "execution_count": 12,
     "metadata": {},
     "output_type": "execute_result"
    }
   ],
   "source": [
    "len(df_train), len(df_val), len(df_test)"
   ]
  },
  {
   "cell_type": "code",
   "execution_count": 13,
   "id": "802509ba-2db0-4574-ab6d-dd6bab13dec5",
   "metadata": {},
   "outputs": [],
   "source": [
    "df_train = df_train.reset_index(drop=True)\n",
    "df_val = df_val.reset_index(drop=True)\n",
    "df_test = df_test.reset_index(drop=True)"
   ]
  },
  {
   "cell_type": "code",
   "execution_count": 14,
   "id": "e5515ef3-ff89-413f-bdef-ade8d6cca16d",
   "metadata": {},
   "outputs": [
    {
     "data": {
      "text/html": [
       "<div>\n",
       "<style scoped>\n",
       "    .dataframe tbody tr th:only-of-type {\n",
       "        vertical-align: middle;\n",
       "    }\n",
       "\n",
       "    .dataframe tbody tr th {\n",
       "        vertical-align: top;\n",
       "    }\n",
       "\n",
       "    .dataframe thead th {\n",
       "        text-align: right;\n",
       "    }\n",
       "</style>\n",
       "<table border=\"1\" class=\"dataframe\">\n",
       "  <thead>\n",
       "    <tr style=\"text-align: right;\">\n",
       "      <th></th>\n",
       "      <th>age</th>\n",
       "      <th>sex</th>\n",
       "      <th>chest_pain_type</th>\n",
       "      <th>bp</th>\n",
       "      <th>cholesterol</th>\n",
       "      <th>fbs_over_120</th>\n",
       "      <th>ekg_results</th>\n",
       "      <th>max_hr</th>\n",
       "      <th>exercise_angina</th>\n",
       "      <th>st_depression</th>\n",
       "      <th>slope_of_st</th>\n",
       "      <th>number_of_vessels_fluro</th>\n",
       "      <th>thallium</th>\n",
       "      <th>heart_disease</th>\n",
       "    </tr>\n",
       "  </thead>\n",
       "  <tbody>\n",
       "    <tr>\n",
       "      <th>0</th>\n",
       "      <td>62</td>\n",
       "      <td>female</td>\n",
       "      <td>3</td>\n",
       "      <td>130</td>\n",
       "      <td>263</td>\n",
       "      <td>false</td>\n",
       "      <td>0</td>\n",
       "      <td>97</td>\n",
       "      <td>no</td>\n",
       "      <td>1.2</td>\n",
       "      <td>2</td>\n",
       "      <td>1</td>\n",
       "      <td>7</td>\n",
       "      <td>1</td>\n",
       "    </tr>\n",
       "    <tr>\n",
       "      <th>1</th>\n",
       "      <td>61</td>\n",
       "      <td>female</td>\n",
       "      <td>4</td>\n",
       "      <td>145</td>\n",
       "      <td>307</td>\n",
       "      <td>false</td>\n",
       "      <td>2</td>\n",
       "      <td>146</td>\n",
       "      <td>yes</td>\n",
       "      <td>1.0</td>\n",
       "      <td>2</td>\n",
       "      <td>0</td>\n",
       "      <td>7</td>\n",
       "      <td>1</td>\n",
       "    </tr>\n",
       "    <tr>\n",
       "      <th>2</th>\n",
       "      <td>54</td>\n",
       "      <td>male</td>\n",
       "      <td>4</td>\n",
       "      <td>124</td>\n",
       "      <td>266</td>\n",
       "      <td>false</td>\n",
       "      <td>2</td>\n",
       "      <td>109</td>\n",
       "      <td>yes</td>\n",
       "      <td>2.2</td>\n",
       "      <td>2</td>\n",
       "      <td>1</td>\n",
       "      <td>7</td>\n",
       "      <td>1</td>\n",
       "    </tr>\n",
       "    <tr>\n",
       "      <th>3</th>\n",
       "      <td>58</td>\n",
       "      <td>female</td>\n",
       "      <td>4</td>\n",
       "      <td>100</td>\n",
       "      <td>248</td>\n",
       "      <td>false</td>\n",
       "      <td>2</td>\n",
       "      <td>122</td>\n",
       "      <td>no</td>\n",
       "      <td>1.0</td>\n",
       "      <td>2</td>\n",
       "      <td>0</td>\n",
       "      <td>3</td>\n",
       "      <td>0</td>\n",
       "    </tr>\n",
       "    <tr>\n",
       "      <th>4</th>\n",
       "      <td>68</td>\n",
       "      <td>male</td>\n",
       "      <td>3</td>\n",
       "      <td>180</td>\n",
       "      <td>274</td>\n",
       "      <td>true</td>\n",
       "      <td>2</td>\n",
       "      <td>150</td>\n",
       "      <td>yes</td>\n",
       "      <td>1.6</td>\n",
       "      <td>2</td>\n",
       "      <td>0</td>\n",
       "      <td>7</td>\n",
       "      <td>1</td>\n",
       "    </tr>\n",
       "    <tr>\n",
       "      <th>...</th>\n",
       "      <td>...</td>\n",
       "      <td>...</td>\n",
       "      <td>...</td>\n",
       "      <td>...</td>\n",
       "      <td>...</td>\n",
       "      <td>...</td>\n",
       "      <td>...</td>\n",
       "      <td>...</td>\n",
       "      <td>...</td>\n",
       "      <td>...</td>\n",
       "      <td>...</td>\n",
       "      <td>...</td>\n",
       "      <td>...</td>\n",
       "      <td>...</td>\n",
       "    </tr>\n",
       "    <tr>\n",
       "      <th>157</th>\n",
       "      <td>44</td>\n",
       "      <td>male</td>\n",
       "      <td>4</td>\n",
       "      <td>112</td>\n",
       "      <td>290</td>\n",
       "      <td>false</td>\n",
       "      <td>2</td>\n",
       "      <td>153</td>\n",
       "      <td>no</td>\n",
       "      <td>0.0</td>\n",
       "      <td>1</td>\n",
       "      <td>1</td>\n",
       "      <td>3</td>\n",
       "      <td>1</td>\n",
       "    </tr>\n",
       "    <tr>\n",
       "      <th>158</th>\n",
       "      <td>44</td>\n",
       "      <td>female</td>\n",
       "      <td>3</td>\n",
       "      <td>108</td>\n",
       "      <td>141</td>\n",
       "      <td>false</td>\n",
       "      <td>0</td>\n",
       "      <td>175</td>\n",
       "      <td>no</td>\n",
       "      <td>0.6</td>\n",
       "      <td>2</td>\n",
       "      <td>0</td>\n",
       "      <td>3</td>\n",
       "      <td>0</td>\n",
       "    </tr>\n",
       "    <tr>\n",
       "      <th>159</th>\n",
       "      <td>53</td>\n",
       "      <td>male</td>\n",
       "      <td>4</td>\n",
       "      <td>140</td>\n",
       "      <td>203</td>\n",
       "      <td>true</td>\n",
       "      <td>2</td>\n",
       "      <td>155</td>\n",
       "      <td>yes</td>\n",
       "      <td>3.1</td>\n",
       "      <td>3</td>\n",
       "      <td>0</td>\n",
       "      <td>7</td>\n",
       "      <td>1</td>\n",
       "    </tr>\n",
       "    <tr>\n",
       "      <th>160</th>\n",
       "      <td>62</td>\n",
       "      <td>male</td>\n",
       "      <td>4</td>\n",
       "      <td>120</td>\n",
       "      <td>267</td>\n",
       "      <td>false</td>\n",
       "      <td>0</td>\n",
       "      <td>99</td>\n",
       "      <td>yes</td>\n",
       "      <td>1.8</td>\n",
       "      <td>2</td>\n",
       "      <td>2</td>\n",
       "      <td>7</td>\n",
       "      <td>1</td>\n",
       "    </tr>\n",
       "    <tr>\n",
       "      <th>161</th>\n",
       "      <td>51</td>\n",
       "      <td>male</td>\n",
       "      <td>4</td>\n",
       "      <td>140</td>\n",
       "      <td>261</td>\n",
       "      <td>false</td>\n",
       "      <td>2</td>\n",
       "      <td>186</td>\n",
       "      <td>yes</td>\n",
       "      <td>0.0</td>\n",
       "      <td>1</td>\n",
       "      <td>0</td>\n",
       "      <td>3</td>\n",
       "      <td>0</td>\n",
       "    </tr>\n",
       "  </tbody>\n",
       "</table>\n",
       "<p>162 rows × 14 columns</p>\n",
       "</div>"
      ],
      "text/plain": [
       "     age     sex  chest_pain_type   bp  cholesterol fbs_over_120  ekg_results  \\\n",
       "0     62  female                3  130          263        false            0   \n",
       "1     61  female                4  145          307        false            2   \n",
       "2     54    male                4  124          266        false            2   \n",
       "3     58  female                4  100          248        false            2   \n",
       "4     68    male                3  180          274         true            2   \n",
       "..   ...     ...              ...  ...          ...          ...          ...   \n",
       "157   44    male                4  112          290        false            2   \n",
       "158   44  female                3  108          141        false            0   \n",
       "159   53    male                4  140          203         true            2   \n",
       "160   62    male                4  120          267        false            0   \n",
       "161   51    male                4  140          261        false            2   \n",
       "\n",
       "     max_hr exercise_angina  st_depression  slope_of_st  \\\n",
       "0        97              no            1.2            2   \n",
       "1       146             yes            1.0            2   \n",
       "2       109             yes            2.2            2   \n",
       "3       122              no            1.0            2   \n",
       "4       150             yes            1.6            2   \n",
       "..      ...             ...            ...          ...   \n",
       "157     153              no            0.0            1   \n",
       "158     175              no            0.6            2   \n",
       "159     155             yes            3.1            3   \n",
       "160      99             yes            1.8            2   \n",
       "161     186             yes            0.0            1   \n",
       "\n",
       "     number_of_vessels_fluro  thallium  heart_disease  \n",
       "0                          1         7              1  \n",
       "1                          0         7              1  \n",
       "2                          1         7              1  \n",
       "3                          0         3              0  \n",
       "4                          0         7              1  \n",
       "..                       ...       ...            ...  \n",
       "157                        1         3              1  \n",
       "158                        0         3              0  \n",
       "159                        0         7              1  \n",
       "160                        2         7              1  \n",
       "161                        0         3              0  \n",
       "\n",
       "[162 rows x 14 columns]"
      ]
     },
     "execution_count": 14,
     "metadata": {},
     "output_type": "execute_result"
    }
   ],
   "source": [
    "df_train"
   ]
  },
  {
   "cell_type": "code",
   "execution_count": 15,
   "id": "7dd6d05e-64b9-4bab-a54c-695eda23c7dd",
   "metadata": {},
   "outputs": [],
   "source": [
    "y_train = df_train.heart_disease.values\n",
    "y_val = df_val.heart_disease.values\n",
    "y_test = df_test.heart_disease.values"
   ]
  },
  {
   "cell_type": "code",
   "execution_count": 16,
   "id": "22f5a406-a389-4f45-9dec-c7198a8565af",
   "metadata": {},
   "outputs": [],
   "source": [
    "del df_train['heart_disease']\n",
    "del df_val['heart_disease']\n",
    "del df_test['heart_disease']"
   ]
  },
  {
   "cell_type": "code",
   "execution_count": 17,
   "id": "bb3cbf9f-a4ff-4b9e-abca-df3bfaa5d1b3",
   "metadata": {},
   "outputs": [
    {
     "data": {
      "text/plain": [
       "age                        0\n",
       "sex                        0\n",
       "chest_pain_type            0\n",
       "bp                         0\n",
       "cholesterol                0\n",
       "fbs_over_120               0\n",
       "ekg_results                0\n",
       "max_hr                     0\n",
       "exercise_angina            0\n",
       "st_depression              0\n",
       "slope_of_st                0\n",
       "number_of_vessels_fluro    0\n",
       "thallium                   0\n",
       "heart_disease              0\n",
       "dtype: int64"
      ]
     },
     "execution_count": 17,
     "metadata": {},
     "output_type": "execute_result"
    }
   ],
   "source": [
    "df_full_train.isnull().sum()"
   ]
  },
  {
   "cell_type": "code",
   "execution_count": 18,
   "id": "3062b01d-6a0f-43c3-a626-7ab04b572f1a",
   "metadata": {},
   "outputs": [],
   "source": [
    "df_full_train = df_full_train.reset_index(drop=True)"
   ]
  },
  {
   "cell_type": "code",
   "execution_count": 19,
   "id": "1700d874-94d8-4a99-91e0-9aaf30952788",
   "metadata": {},
   "outputs": [
    {
     "data": {
      "text/html": [
       "<div>\n",
       "<style scoped>\n",
       "    .dataframe tbody tr th:only-of-type {\n",
       "        vertical-align: middle;\n",
       "    }\n",
       "\n",
       "    .dataframe tbody tr th {\n",
       "        vertical-align: top;\n",
       "    }\n",
       "\n",
       "    .dataframe thead th {\n",
       "        text-align: right;\n",
       "    }\n",
       "</style>\n",
       "<table border=\"1\" class=\"dataframe\">\n",
       "  <thead>\n",
       "    <tr style=\"text-align: right;\">\n",
       "      <th></th>\n",
       "      <th>age</th>\n",
       "      <th>sex</th>\n",
       "      <th>chest_pain_type</th>\n",
       "      <th>bp</th>\n",
       "      <th>cholesterol</th>\n",
       "      <th>fbs_over_120</th>\n",
       "      <th>ekg_results</th>\n",
       "      <th>max_hr</th>\n",
       "      <th>exercise_angina</th>\n",
       "      <th>st_depression</th>\n",
       "      <th>slope_of_st</th>\n",
       "      <th>number_of_vessels_fluro</th>\n",
       "      <th>thallium</th>\n",
       "      <th>heart_disease</th>\n",
       "    </tr>\n",
       "  </thead>\n",
       "  <tbody>\n",
       "    <tr>\n",
       "      <th>0</th>\n",
       "      <td>70</td>\n",
       "      <td>male</td>\n",
       "      <td>4</td>\n",
       "      <td>130</td>\n",
       "      <td>322</td>\n",
       "      <td>false</td>\n",
       "      <td>2</td>\n",
       "      <td>109</td>\n",
       "      <td>no</td>\n",
       "      <td>2.4</td>\n",
       "      <td>2</td>\n",
       "      <td>3</td>\n",
       "      <td>3</td>\n",
       "      <td>1</td>\n",
       "    </tr>\n",
       "    <tr>\n",
       "      <th>1</th>\n",
       "      <td>80</td>\n",
       "      <td>female</td>\n",
       "      <td>3</td>\n",
       "      <td>115</td>\n",
       "      <td>564</td>\n",
       "      <td>false</td>\n",
       "      <td>2</td>\n",
       "      <td>160</td>\n",
       "      <td>no</td>\n",
       "      <td>1.6</td>\n",
       "      <td>2</td>\n",
       "      <td>0</td>\n",
       "      <td>7</td>\n",
       "      <td>0</td>\n",
       "    </tr>\n",
       "    <tr>\n",
       "      <th>2</th>\n",
       "      <td>55</td>\n",
       "      <td>male</td>\n",
       "      <td>2</td>\n",
       "      <td>124</td>\n",
       "      <td>261</td>\n",
       "      <td>false</td>\n",
       "      <td>0</td>\n",
       "      <td>141</td>\n",
       "      <td>no</td>\n",
       "      <td>0.3</td>\n",
       "      <td>1</td>\n",
       "      <td>0</td>\n",
       "      <td>7</td>\n",
       "      <td>1</td>\n",
       "    </tr>\n",
       "    <tr>\n",
       "      <th>3</th>\n",
       "      <td>65</td>\n",
       "      <td>male</td>\n",
       "      <td>4</td>\n",
       "      <td>128</td>\n",
       "      <td>263</td>\n",
       "      <td>false</td>\n",
       "      <td>0</td>\n",
       "      <td>105</td>\n",
       "      <td>yes</td>\n",
       "      <td>0.2</td>\n",
       "      <td>2</td>\n",
       "      <td>1</td>\n",
       "      <td>7</td>\n",
       "      <td>0</td>\n",
       "    </tr>\n",
       "    <tr>\n",
       "      <th>4</th>\n",
       "      <td>45</td>\n",
       "      <td>female</td>\n",
       "      <td>2</td>\n",
       "      <td>120</td>\n",
       "      <td>269</td>\n",
       "      <td>false</td>\n",
       "      <td>2</td>\n",
       "      <td>121</td>\n",
       "      <td>yes</td>\n",
       "      <td>0.2</td>\n",
       "      <td>1</td>\n",
       "      <td>1</td>\n",
       "      <td>3</td>\n",
       "      <td>0</td>\n",
       "    </tr>\n",
       "  </tbody>\n",
       "</table>\n",
       "</div>"
      ],
      "text/plain": [
       "   age     sex  chest_pain_type   bp  cholesterol fbs_over_120  ekg_results  \\\n",
       "0   70    male                4  130          322        false            2   \n",
       "1   80  female                3  115          564        false            2   \n",
       "2   55    male                2  124          261        false            0   \n",
       "3   65    male                4  128          263        false            0   \n",
       "4   45  female                2  120          269        false            2   \n",
       "\n",
       "   max_hr exercise_angina  st_depression  slope_of_st  \\\n",
       "0     109              no            2.4            2   \n",
       "1     160              no            1.6            2   \n",
       "2     141              no            0.3            1   \n",
       "3     105             yes            0.2            2   \n",
       "4     121             yes            0.2            1   \n",
       "\n",
       "   number_of_vessels_fluro  thallium  heart_disease  \n",
       "0                        3         3              1  \n",
       "1                        0         7              0  \n",
       "2                        0         7              1  \n",
       "3                        1         7              0  \n",
       "4                        1         3              0  "
      ]
     },
     "execution_count": 19,
     "metadata": {},
     "output_type": "execute_result"
    }
   ],
   "source": [
    "df.head()"
   ]
  },
  {
   "cell_type": "code",
   "execution_count": 20,
   "id": "626328dc-2c3f-4037-a651-02b096ad5530",
   "metadata": {},
   "outputs": [
    {
     "data": {
      "text/plain": [
       "heart_disease\n",
       "0    0.550926\n",
       "1    0.449074\n",
       "Name: proportion, dtype: float64"
      ]
     },
     "execution_count": 20,
     "metadata": {},
     "output_type": "execute_result"
    }
   ],
   "source": [
    "df_full_train.heart_disease.value_counts(normalize=True)"
   ]
  },
  {
   "cell_type": "code",
   "execution_count": 21,
   "id": "4e1a91b0-2d74-42f0-8a3f-2a12756dabfd",
   "metadata": {},
   "outputs": [
    {
     "data": {
      "text/plain": [
       "0.44907407407407407"
      ]
     },
     "execution_count": 21,
     "metadata": {},
     "output_type": "execute_result"
    }
   ],
   "source": [
    "df_full_train.heart_disease.mean()"
   ]
  },
  {
   "cell_type": "code",
   "execution_count": 22,
   "id": "276c8da6-679b-4098-8671-96e298949012",
   "metadata": {},
   "outputs": [
    {
     "data": {
      "text/plain": [
       "age                          int64\n",
       "sex                         object\n",
       "chest_pain_type              int64\n",
       "bp                           int64\n",
       "cholesterol                  int64\n",
       "fbs_over_120                object\n",
       "ekg_results                  int64\n",
       "max_hr                       int64\n",
       "exercise_angina             object\n",
       "st_depression              float64\n",
       "slope_of_st                  int64\n",
       "number_of_vessels_fluro      int64\n",
       "thallium                     int64\n",
       "heart_disease                int64\n",
       "dtype: object"
      ]
     },
     "execution_count": 22,
     "metadata": {},
     "output_type": "execute_result"
    }
   ],
   "source": [
    "df_full_train.dtypes"
   ]
  },
  {
   "cell_type": "code",
   "execution_count": 23,
   "id": "8f4df5ed-3716-4310-ab13-79171d9f3231",
   "metadata": {},
   "outputs": [],
   "source": [
    "numerical = [\"age\",\"bp\",\"cholesterol\",\"max_hr\",\"st_depression\"]"
   ]
  },
  {
   "cell_type": "code",
   "execution_count": 24,
   "id": "4bf72d9a-1d17-4b1e-9722-d7101d5c4ac5",
   "metadata": {},
   "outputs": [
    {
     "data": {
      "text/plain": [
       "Index(['age', 'sex', 'chest_pain_type', 'bp', 'cholesterol', 'fbs_over_120',\n",
       "       'ekg_results', 'max_hr', 'exercise_angina', 'st_depression',\n",
       "       'slope_of_st', 'number_of_vessels_fluro', 'thallium', 'heart_disease'],\n",
       "      dtype='object')"
      ]
     },
     "execution_count": 24,
     "metadata": {},
     "output_type": "execute_result"
    }
   ],
   "source": [
    "df_full_train.columns"
   ]
  },
  {
   "cell_type": "code",
   "execution_count": 25,
   "id": "249e4d7d-5095-40d3-a8a2-f41c5e35a0c6",
   "metadata": {},
   "outputs": [],
   "source": [
    "categorical = ['sex', 'chest_pain_type', 'fbs_over_120',\n",
    "       'ekg_results', 'exercise_angina',\n",
    "       'slope_of_st', 'number_of_vessels_fluro', 'thallium']"
   ]
  },
  {
   "cell_type": "code",
   "execution_count": 26,
   "id": "90cba12b-0b3e-48fe-b189-829afb621876",
   "metadata": {},
   "outputs": [
    {
     "data": {
      "text/plain": [
       "sex                        2\n",
       "chest_pain_type            4\n",
       "fbs_over_120               2\n",
       "ekg_results                3\n",
       "exercise_angina            2\n",
       "slope_of_st                3\n",
       "number_of_vessels_fluro    4\n",
       "thallium                   3\n",
       "dtype: int64"
      ]
     },
     "execution_count": 26,
     "metadata": {},
     "output_type": "execute_result"
    }
   ],
   "source": [
    "df_full_train[categorical].nunique()"
   ]
  },
  {
   "cell_type": "code",
   "execution_count": 27,
   "id": "cbbce189-4598-4e23-9312-1b7855fd0105",
   "metadata": {},
   "outputs": [
    {
     "data": {
      "text/plain": [
       "0.44907407407407407"
      ]
     },
     "execution_count": 27,
     "metadata": {},
     "output_type": "execute_result"
    }
   ],
   "source": [
    "global_heart_disease_rate = df_full_train.heart_disease.mean()\n",
    "global_heart_disease_rate"
   ]
  },
  {
   "cell_type": "code",
   "execution_count": 28,
   "id": "1e2a412f-4e89-42c3-800a-5534ef34aebc",
   "metadata": {},
   "outputs": [
    {
     "data": {
      "text/plain": [
       "0.25"
      ]
     },
     "execution_count": 28,
     "metadata": {},
     "output_type": "execute_result"
    }
   ],
   "source": [
    "heart_disease_female = df_full_train[df_full_train.sex == 'female'].heart_disease.mean()\n",
    "heart_disease_female"
   ]
  },
  {
   "cell_type": "code",
   "execution_count": 29,
   "id": "d78c5840-3b98-4d21-a5a1-f6974b4ee50c",
   "metadata": {},
   "outputs": [
    {
     "data": {
      "text/plain": [
       "0.5571428571428572"
      ]
     },
     "execution_count": 29,
     "metadata": {},
     "output_type": "execute_result"
    }
   ],
   "source": [
    "heart_disease_male = df_full_train[df_full_train.sex == 'male'].heart_disease.mean()\n",
    "heart_disease_male"
   ]
  },
  {
   "cell_type": "code",
   "execution_count": 30,
   "id": "3ff1be23-3ad6-499e-b561-37bbbde79a49",
   "metadata": {},
   "outputs": [],
   "source": [
    "from IPython.display import display"
   ]
  },
  {
   "cell_type": "code",
   "execution_count": 31,
   "id": "b161408d-08d6-4efa-a33c-cc9f1285a189",
   "metadata": {},
   "outputs": [
    {
     "name": "stdout",
     "output_type": "stream",
     "text": [
      "sex\n"
     ]
    },
    {
     "data": {
      "text/html": [
       "<div>\n",
       "<style scoped>\n",
       "    .dataframe tbody tr th:only-of-type {\n",
       "        vertical-align: middle;\n",
       "    }\n",
       "\n",
       "    .dataframe tbody tr th {\n",
       "        vertical-align: top;\n",
       "    }\n",
       "\n",
       "    .dataframe thead th {\n",
       "        text-align: right;\n",
       "    }\n",
       "</style>\n",
       "<table border=\"1\" class=\"dataframe\">\n",
       "  <thead>\n",
       "    <tr style=\"text-align: right;\">\n",
       "      <th></th>\n",
       "      <th>mean</th>\n",
       "      <th>count</th>\n",
       "      <th>diff</th>\n",
       "      <th>risk</th>\n",
       "    </tr>\n",
       "    <tr>\n",
       "      <th>sex</th>\n",
       "      <th></th>\n",
       "      <th></th>\n",
       "      <th></th>\n",
       "      <th></th>\n",
       "    </tr>\n",
       "  </thead>\n",
       "  <tbody>\n",
       "    <tr>\n",
       "      <th>female</th>\n",
       "      <td>0.250000</td>\n",
       "      <td>76</td>\n",
       "      <td>-0.199074</td>\n",
       "      <td>0.556701</td>\n",
       "    </tr>\n",
       "    <tr>\n",
       "      <th>male</th>\n",
       "      <td>0.557143</td>\n",
       "      <td>140</td>\n",
       "      <td>0.108069</td>\n",
       "      <td>1.240648</td>\n",
       "    </tr>\n",
       "  </tbody>\n",
       "</table>\n",
       "</div>"
      ],
      "text/plain": [
       "            mean  count      diff      risk\n",
       "sex                                        \n",
       "female  0.250000     76 -0.199074  0.556701\n",
       "male    0.557143    140  0.108069  1.240648"
      ]
     },
     "metadata": {},
     "output_type": "display_data"
    },
    {
     "name": "stdout",
     "output_type": "stream",
     "text": [
      "\n",
      "\n",
      "chest_pain_type\n"
     ]
    },
    {
     "data": {
      "text/html": [
       "<div>\n",
       "<style scoped>\n",
       "    .dataframe tbody tr th:only-of-type {\n",
       "        vertical-align: middle;\n",
       "    }\n",
       "\n",
       "    .dataframe tbody tr th {\n",
       "        vertical-align: top;\n",
       "    }\n",
       "\n",
       "    .dataframe thead th {\n",
       "        text-align: right;\n",
       "    }\n",
       "</style>\n",
       "<table border=\"1\" class=\"dataframe\">\n",
       "  <thead>\n",
       "    <tr style=\"text-align: right;\">\n",
       "      <th></th>\n",
       "      <th>mean</th>\n",
       "      <th>count</th>\n",
       "      <th>diff</th>\n",
       "      <th>risk</th>\n",
       "    </tr>\n",
       "    <tr>\n",
       "      <th>chest_pain_type</th>\n",
       "      <th></th>\n",
       "      <th></th>\n",
       "      <th></th>\n",
       "      <th></th>\n",
       "    </tr>\n",
       "  </thead>\n",
       "  <tbody>\n",
       "    <tr>\n",
       "      <th>1</th>\n",
       "      <td>0.214286</td>\n",
       "      <td>14</td>\n",
       "      <td>-0.234788</td>\n",
       "      <td>0.477172</td>\n",
       "    </tr>\n",
       "    <tr>\n",
       "      <th>2</th>\n",
       "      <td>0.205882</td>\n",
       "      <td>34</td>\n",
       "      <td>-0.243192</td>\n",
       "      <td>0.458460</td>\n",
       "    </tr>\n",
       "    <tr>\n",
       "      <th>3</th>\n",
       "      <td>0.229508</td>\n",
       "      <td>61</td>\n",
       "      <td>-0.219566</td>\n",
       "      <td>0.511070</td>\n",
       "    </tr>\n",
       "    <tr>\n",
       "      <th>4</th>\n",
       "      <td>0.682243</td>\n",
       "      <td>107</td>\n",
       "      <td>0.233169</td>\n",
       "      <td>1.519222</td>\n",
       "    </tr>\n",
       "  </tbody>\n",
       "</table>\n",
       "</div>"
      ],
      "text/plain": [
       "                     mean  count      diff      risk\n",
       "chest_pain_type                                     \n",
       "1                0.214286     14 -0.234788  0.477172\n",
       "2                0.205882     34 -0.243192  0.458460\n",
       "3                0.229508     61 -0.219566  0.511070\n",
       "4                0.682243    107  0.233169  1.519222"
      ]
     },
     "metadata": {},
     "output_type": "display_data"
    },
    {
     "name": "stdout",
     "output_type": "stream",
     "text": [
      "\n",
      "\n",
      "fbs_over_120\n"
     ]
    },
    {
     "data": {
      "text/html": [
       "<div>\n",
       "<style scoped>\n",
       "    .dataframe tbody tr th:only-of-type {\n",
       "        vertical-align: middle;\n",
       "    }\n",
       "\n",
       "    .dataframe tbody tr th {\n",
       "        vertical-align: top;\n",
       "    }\n",
       "\n",
       "    .dataframe thead th {\n",
       "        text-align: right;\n",
       "    }\n",
       "</style>\n",
       "<table border=\"1\" class=\"dataframe\">\n",
       "  <thead>\n",
       "    <tr style=\"text-align: right;\">\n",
       "      <th></th>\n",
       "      <th>mean</th>\n",
       "      <th>count</th>\n",
       "      <th>diff</th>\n",
       "      <th>risk</th>\n",
       "    </tr>\n",
       "    <tr>\n",
       "      <th>fbs_over_120</th>\n",
       "      <th></th>\n",
       "      <th></th>\n",
       "      <th></th>\n",
       "      <th></th>\n",
       "    </tr>\n",
       "  </thead>\n",
       "  <tbody>\n",
       "    <tr>\n",
       "      <th>false</th>\n",
       "      <td>0.450549</td>\n",
       "      <td>182</td>\n",
       "      <td>0.001475</td>\n",
       "      <td>1.003285</td>\n",
       "    </tr>\n",
       "    <tr>\n",
       "      <th>true</th>\n",
       "      <td>0.441176</td>\n",
       "      <td>34</td>\n",
       "      <td>-0.007898</td>\n",
       "      <td>0.982414</td>\n",
       "    </tr>\n",
       "  </tbody>\n",
       "</table>\n",
       "</div>"
      ],
      "text/plain": [
       "                  mean  count      diff      risk\n",
       "fbs_over_120                                     \n",
       "false         0.450549    182  0.001475  1.003285\n",
       "true          0.441176     34 -0.007898  0.982414"
      ]
     },
     "metadata": {},
     "output_type": "display_data"
    },
    {
     "name": "stdout",
     "output_type": "stream",
     "text": [
      "\n",
      "\n",
      "ekg_results\n"
     ]
    },
    {
     "data": {
      "text/html": [
       "<div>\n",
       "<style scoped>\n",
       "    .dataframe tbody tr th:only-of-type {\n",
       "        vertical-align: middle;\n",
       "    }\n",
       "\n",
       "    .dataframe tbody tr th {\n",
       "        vertical-align: top;\n",
       "    }\n",
       "\n",
       "    .dataframe thead th {\n",
       "        text-align: right;\n",
       "    }\n",
       "</style>\n",
       "<table border=\"1\" class=\"dataframe\">\n",
       "  <thead>\n",
       "    <tr style=\"text-align: right;\">\n",
       "      <th></th>\n",
       "      <th>mean</th>\n",
       "      <th>count</th>\n",
       "      <th>diff</th>\n",
       "      <th>risk</th>\n",
       "    </tr>\n",
       "    <tr>\n",
       "      <th>ekg_results</th>\n",
       "      <th></th>\n",
       "      <th></th>\n",
       "      <th></th>\n",
       "      <th></th>\n",
       "    </tr>\n",
       "  </thead>\n",
       "  <tbody>\n",
       "    <tr>\n",
       "      <th>0</th>\n",
       "      <td>0.346154</td>\n",
       "      <td>104</td>\n",
       "      <td>-0.102920</td>\n",
       "      <td>0.770817</td>\n",
       "    </tr>\n",
       "    <tr>\n",
       "      <th>1</th>\n",
       "      <td>1.000000</td>\n",
       "      <td>1</td>\n",
       "      <td>0.550926</td>\n",
       "      <td>2.226804</td>\n",
       "    </tr>\n",
       "    <tr>\n",
       "      <th>2</th>\n",
       "      <td>0.540541</td>\n",
       "      <td>111</td>\n",
       "      <td>0.091466</td>\n",
       "      <td>1.203678</td>\n",
       "    </tr>\n",
       "  </tbody>\n",
       "</table>\n",
       "</div>"
      ],
      "text/plain": [
       "                 mean  count      diff      risk\n",
       "ekg_results                                     \n",
       "0            0.346154    104 -0.102920  0.770817\n",
       "1            1.000000      1  0.550926  2.226804\n",
       "2            0.540541    111  0.091466  1.203678"
      ]
     },
     "metadata": {},
     "output_type": "display_data"
    },
    {
     "name": "stdout",
     "output_type": "stream",
     "text": [
      "\n",
      "\n",
      "exercise_angina\n"
     ]
    },
    {
     "data": {
      "text/html": [
       "<div>\n",
       "<style scoped>\n",
       "    .dataframe tbody tr th:only-of-type {\n",
       "        vertical-align: middle;\n",
       "    }\n",
       "\n",
       "    .dataframe tbody tr th {\n",
       "        vertical-align: top;\n",
       "    }\n",
       "\n",
       "    .dataframe thead th {\n",
       "        text-align: right;\n",
       "    }\n",
       "</style>\n",
       "<table border=\"1\" class=\"dataframe\">\n",
       "  <thead>\n",
       "    <tr style=\"text-align: right;\">\n",
       "      <th></th>\n",
       "      <th>mean</th>\n",
       "      <th>count</th>\n",
       "      <th>diff</th>\n",
       "      <th>risk</th>\n",
       "    </tr>\n",
       "    <tr>\n",
       "      <th>exercise_angina</th>\n",
       "      <th></th>\n",
       "      <th></th>\n",
       "      <th></th>\n",
       "      <th></th>\n",
       "    </tr>\n",
       "  </thead>\n",
       "  <tbody>\n",
       "    <tr>\n",
       "      <th>no</th>\n",
       "      <td>0.301370</td>\n",
       "      <td>146</td>\n",
       "      <td>-0.147704</td>\n",
       "      <td>0.671092</td>\n",
       "    </tr>\n",
       "    <tr>\n",
       "      <th>yes</th>\n",
       "      <td>0.757143</td>\n",
       "      <td>70</td>\n",
       "      <td>0.308069</td>\n",
       "      <td>1.686009</td>\n",
       "    </tr>\n",
       "  </tbody>\n",
       "</table>\n",
       "</div>"
      ],
      "text/plain": [
       "                     mean  count      diff      risk\n",
       "exercise_angina                                     \n",
       "no               0.301370    146 -0.147704  0.671092\n",
       "yes              0.757143     70  0.308069  1.686009"
      ]
     },
     "metadata": {},
     "output_type": "display_data"
    },
    {
     "name": "stdout",
     "output_type": "stream",
     "text": [
      "\n",
      "\n",
      "slope_of_st\n"
     ]
    },
    {
     "data": {
      "text/html": [
       "<div>\n",
       "<style scoped>\n",
       "    .dataframe tbody tr th:only-of-type {\n",
       "        vertical-align: middle;\n",
       "    }\n",
       "\n",
       "    .dataframe tbody tr th {\n",
       "        vertical-align: top;\n",
       "    }\n",
       "\n",
       "    .dataframe thead th {\n",
       "        text-align: right;\n",
       "    }\n",
       "</style>\n",
       "<table border=\"1\" class=\"dataframe\">\n",
       "  <thead>\n",
       "    <tr style=\"text-align: right;\">\n",
       "      <th></th>\n",
       "      <th>mean</th>\n",
       "      <th>count</th>\n",
       "      <th>diff</th>\n",
       "      <th>risk</th>\n",
       "    </tr>\n",
       "    <tr>\n",
       "      <th>slope_of_st</th>\n",
       "      <th></th>\n",
       "      <th></th>\n",
       "      <th></th>\n",
       "      <th></th>\n",
       "    </tr>\n",
       "  </thead>\n",
       "  <tbody>\n",
       "    <tr>\n",
       "      <th>1</th>\n",
       "      <td>0.271028</td>\n",
       "      <td>107</td>\n",
       "      <td>-0.178046</td>\n",
       "      <td>0.603526</td>\n",
       "    </tr>\n",
       "    <tr>\n",
       "      <th>2</th>\n",
       "      <td>0.630435</td>\n",
       "      <td>92</td>\n",
       "      <td>0.181361</td>\n",
       "      <td>1.403855</td>\n",
       "    </tr>\n",
       "    <tr>\n",
       "      <th>3</th>\n",
       "      <td>0.588235</td>\n",
       "      <td>17</td>\n",
       "      <td>0.139161</td>\n",
       "      <td>1.309885</td>\n",
       "    </tr>\n",
       "  </tbody>\n",
       "</table>\n",
       "</div>"
      ],
      "text/plain": [
       "                 mean  count      diff      risk\n",
       "slope_of_st                                     \n",
       "1            0.271028    107 -0.178046  0.603526\n",
       "2            0.630435     92  0.181361  1.403855\n",
       "3            0.588235     17  0.139161  1.309885"
      ]
     },
     "metadata": {},
     "output_type": "display_data"
    },
    {
     "name": "stdout",
     "output_type": "stream",
     "text": [
      "\n",
      "\n",
      "number_of_vessels_fluro\n"
     ]
    },
    {
     "data": {
      "text/html": [
       "<div>\n",
       "<style scoped>\n",
       "    .dataframe tbody tr th:only-of-type {\n",
       "        vertical-align: middle;\n",
       "    }\n",
       "\n",
       "    .dataframe tbody tr th {\n",
       "        vertical-align: top;\n",
       "    }\n",
       "\n",
       "    .dataframe thead th {\n",
       "        text-align: right;\n",
       "    }\n",
       "</style>\n",
       "<table border=\"1\" class=\"dataframe\">\n",
       "  <thead>\n",
       "    <tr style=\"text-align: right;\">\n",
       "      <th></th>\n",
       "      <th>mean</th>\n",
       "      <th>count</th>\n",
       "      <th>diff</th>\n",
       "      <th>risk</th>\n",
       "    </tr>\n",
       "    <tr>\n",
       "      <th>number_of_vessels_fluro</th>\n",
       "      <th></th>\n",
       "      <th></th>\n",
       "      <th></th>\n",
       "      <th></th>\n",
       "    </tr>\n",
       "  </thead>\n",
       "  <tbody>\n",
       "    <tr>\n",
       "      <th>0</th>\n",
       "      <td>0.264000</td>\n",
       "      <td>125</td>\n",
       "      <td>-0.185074</td>\n",
       "      <td>0.587876</td>\n",
       "    </tr>\n",
       "    <tr>\n",
       "      <th>1</th>\n",
       "      <td>0.617021</td>\n",
       "      <td>47</td>\n",
       "      <td>0.167947</td>\n",
       "      <td>1.373986</td>\n",
       "    </tr>\n",
       "    <tr>\n",
       "      <th>2</th>\n",
       "      <td>0.793103</td>\n",
       "      <td>29</td>\n",
       "      <td>0.344029</td>\n",
       "      <td>1.766086</td>\n",
       "    </tr>\n",
       "    <tr>\n",
       "      <th>3</th>\n",
       "      <td>0.800000</td>\n",
       "      <td>15</td>\n",
       "      <td>0.350926</td>\n",
       "      <td>1.781443</td>\n",
       "    </tr>\n",
       "  </tbody>\n",
       "</table>\n",
       "</div>"
      ],
      "text/plain": [
       "                             mean  count      diff      risk\n",
       "number_of_vessels_fluro                                     \n",
       "0                        0.264000    125 -0.185074  0.587876\n",
       "1                        0.617021     47  0.167947  1.373986\n",
       "2                        0.793103     29  0.344029  1.766086\n",
       "3                        0.800000     15  0.350926  1.781443"
      ]
     },
     "metadata": {},
     "output_type": "display_data"
    },
    {
     "name": "stdout",
     "output_type": "stream",
     "text": [
      "\n",
      "\n",
      "thallium\n"
     ]
    },
    {
     "data": {
      "text/html": [
       "<div>\n",
       "<style scoped>\n",
       "    .dataframe tbody tr th:only-of-type {\n",
       "        vertical-align: middle;\n",
       "    }\n",
       "\n",
       "    .dataframe tbody tr th {\n",
       "        vertical-align: top;\n",
       "    }\n",
       "\n",
       "    .dataframe thead th {\n",
       "        text-align: right;\n",
       "    }\n",
       "</style>\n",
       "<table border=\"1\" class=\"dataframe\">\n",
       "  <thead>\n",
       "    <tr style=\"text-align: right;\">\n",
       "      <th></th>\n",
       "      <th>mean</th>\n",
       "      <th>count</th>\n",
       "      <th>diff</th>\n",
       "      <th>risk</th>\n",
       "    </tr>\n",
       "    <tr>\n",
       "      <th>thallium</th>\n",
       "      <th></th>\n",
       "      <th></th>\n",
       "      <th></th>\n",
       "      <th></th>\n",
       "    </tr>\n",
       "  </thead>\n",
       "  <tbody>\n",
       "    <tr>\n",
       "      <th>3</th>\n",
       "      <td>0.196721</td>\n",
       "      <td>122</td>\n",
       "      <td>-0.252353</td>\n",
       "      <td>0.438060</td>\n",
       "    </tr>\n",
       "    <tr>\n",
       "      <th>6</th>\n",
       "      <td>0.625000</td>\n",
       "      <td>8</td>\n",
       "      <td>0.175926</td>\n",
       "      <td>1.391753</td>\n",
       "    </tr>\n",
       "    <tr>\n",
       "      <th>7</th>\n",
       "      <td>0.790698</td>\n",
       "      <td>86</td>\n",
       "      <td>0.341624</td>\n",
       "      <td>1.760729</td>\n",
       "    </tr>\n",
       "  </tbody>\n",
       "</table>\n",
       "</div>"
      ],
      "text/plain": [
       "              mean  count      diff      risk\n",
       "thallium                                     \n",
       "3         0.196721    122 -0.252353  0.438060\n",
       "6         0.625000      8  0.175926  1.391753\n",
       "7         0.790698     86  0.341624  1.760729"
      ]
     },
     "metadata": {},
     "output_type": "display_data"
    },
    {
     "name": "stdout",
     "output_type": "stream",
     "text": [
      "\n",
      "\n"
     ]
    }
   ],
   "source": [
    "for c in categorical:\n",
    "    print(c)\n",
    "    df_group = df_full_train.groupby(c).heart_disease.agg(['mean', 'count'])\n",
    "    df_group['diff'] = df_group['mean'] - global_heart_disease_rate\n",
    "    df_group['risk'] = df_group['mean'] / global_heart_disease_rate\n",
    "    display(df_group)\n",
    "    print()\n",
    "    print()"
   ]
  },
  {
   "cell_type": "code",
   "execution_count": 32,
   "id": "820f0d52-8253-4743-9298-c93d625eaf46",
   "metadata": {},
   "outputs": [],
   "source": [
    "from sklearn.metrics import mutual_info_score"
   ]
  },
  {
   "cell_type": "code",
   "execution_count": 33,
   "id": "62f00814-cbf4-4d5d-906d-559e82ceae55",
   "metadata": {},
   "outputs": [],
   "source": [
    "def mutual_info_heart_disease_score(series):\n",
    "    return mutual_info_score(series, df_full_train.heart_disease)"
   ]
  },
  {
   "cell_type": "code",
   "execution_count": 34,
   "id": "d1fb7fd7-c866-4b92-a738-6ba7fbf2e536",
   "metadata": {},
   "outputs": [
    {
     "data": {
      "text/plain": [
       "thallium                   0.179138\n",
       "chest_pain_type            0.112424\n",
       "number_of_vessels_fluro    0.105918\n",
       "exercise_angina            0.094620\n",
       "slope_of_st                0.064628\n",
       "sex                        0.045073\n",
       "ekg_results                0.022870\n",
       "fbs_over_120               0.000024\n",
       "dtype: float64"
      ]
     },
     "execution_count": 34,
     "metadata": {},
     "output_type": "execute_result"
    }
   ],
   "source": [
    "mi = df_full_train[categorical].apply(mutual_info_heart_disease_score)\n",
    "mi.sort_values(ascending=False)"
   ]
  },
  {
   "cell_type": "code",
   "execution_count": 35,
   "id": "7915ea8b-9e37-4fd6-acf5-a24ee1138faa",
   "metadata": {},
   "outputs": [
    {
     "data": {
      "text/plain": [
       "age              0.204550\n",
       "bp               0.175619\n",
       "cholesterol      0.098109\n",
       "max_hr           0.411571\n",
       "st_depression    0.405581\n",
       "dtype: float64"
      ]
     },
     "execution_count": 35,
     "metadata": {},
     "output_type": "execute_result"
    }
   ],
   "source": [
    "df_full_train[numerical].corrwith(df_full_train.heart_disease).abs()"
   ]
  },
  {
   "cell_type": "code",
   "execution_count": 36,
   "id": "e724f327",
   "metadata": {},
   "outputs": [],
   "source": [
    "from sklearn.feature_extraction import DictVectorizer"
   ]
  },
  {
   "cell_type": "code",
   "execution_count": 37,
   "id": "184c4da9",
   "metadata": {},
   "outputs": [],
   "source": [
    "train_dicts = df_train[categorical + numerical].to_dict(orient='records')"
   ]
  },
  {
   "cell_type": "code",
   "execution_count": 39,
   "id": "072edc43",
   "metadata": {},
   "outputs": [],
   "source": [
    "dv = DictVectorizer(sparse=False)"
   ]
  },
  {
   "cell_type": "code",
   "execution_count": 40,
   "id": "7b221713",
   "metadata": {},
   "outputs": [],
   "source": [
    "X_train = dv.fit_transform(train_dicts)"
   ]
  },
  {
   "cell_type": "code",
   "execution_count": 41,
   "id": "9d7fa512",
   "metadata": {},
   "outputs": [],
   "source": [
    "val_dicts = df_val[categorical + numerical].to_dict(orient='records')"
   ]
  },
  {
   "cell_type": "code",
   "execution_count": 42,
   "id": "9ef38bf4",
   "metadata": {},
   "outputs": [],
   "source": [
    "X_val = dv.transform(val_dicts)"
   ]
  },
  {
   "cell_type": "code",
   "execution_count": 43,
   "id": "b128cb84",
   "metadata": {},
   "outputs": [],
   "source": [
    "from sklearn.linear_model import LogisticRegression"
   ]
  },
  {
   "cell_type": "code",
   "execution_count": 44,
   "id": "1fa27cb6",
   "metadata": {},
   "outputs": [
    {
     "name": "stderr",
     "output_type": "stream",
     "text": [
      "/home/dell/anaconda3/lib/python3.11/site-packages/sklearn/linear_model/_logistic.py:460: ConvergenceWarning: lbfgs failed to converge (status=1):\n",
      "STOP: TOTAL NO. of ITERATIONS REACHED LIMIT.\n",
      "\n",
      "Increase the number of iterations (max_iter) or scale the data as shown in:\n",
      "    https://scikit-learn.org/stable/modules/preprocessing.html\n",
      "Please also refer to the documentation for alternative solver options:\n",
      "    https://scikit-learn.org/stable/modules/linear_model.html#logistic-regression\n",
      "  n_iter_i = _check_optimize_result(\n"
     ]
    },
    {
     "data": {
      "text/html": [
       "<style>#sk-container-id-1 {color: black;}#sk-container-id-1 pre{padding: 0;}#sk-container-id-1 div.sk-toggleable {background-color: white;}#sk-container-id-1 label.sk-toggleable__label {cursor: pointer;display: block;width: 100%;margin-bottom: 0;padding: 0.3em;box-sizing: border-box;text-align: center;}#sk-container-id-1 label.sk-toggleable__label-arrow:before {content: \"▸\";float: left;margin-right: 0.25em;color: #696969;}#sk-container-id-1 label.sk-toggleable__label-arrow:hover:before {color: black;}#sk-container-id-1 div.sk-estimator:hover label.sk-toggleable__label-arrow:before {color: black;}#sk-container-id-1 div.sk-toggleable__content {max-height: 0;max-width: 0;overflow: hidden;text-align: left;background-color: #f0f8ff;}#sk-container-id-1 div.sk-toggleable__content pre {margin: 0.2em;color: black;border-radius: 0.25em;background-color: #f0f8ff;}#sk-container-id-1 input.sk-toggleable__control:checked~div.sk-toggleable__content {max-height: 200px;max-width: 100%;overflow: auto;}#sk-container-id-1 input.sk-toggleable__control:checked~label.sk-toggleable__label-arrow:before {content: \"▾\";}#sk-container-id-1 div.sk-estimator input.sk-toggleable__control:checked~label.sk-toggleable__label {background-color: #d4ebff;}#sk-container-id-1 div.sk-label input.sk-toggleable__control:checked~label.sk-toggleable__label {background-color: #d4ebff;}#sk-container-id-1 input.sk-hidden--visually {border: 0;clip: rect(1px 1px 1px 1px);clip: rect(1px, 1px, 1px, 1px);height: 1px;margin: -1px;overflow: hidden;padding: 0;position: absolute;width: 1px;}#sk-container-id-1 div.sk-estimator {font-family: monospace;background-color: #f0f8ff;border: 1px dotted black;border-radius: 0.25em;box-sizing: border-box;margin-bottom: 0.5em;}#sk-container-id-1 div.sk-estimator:hover {background-color: #d4ebff;}#sk-container-id-1 div.sk-parallel-item::after {content: \"\";width: 100%;border-bottom: 1px solid gray;flex-grow: 1;}#sk-container-id-1 div.sk-label:hover label.sk-toggleable__label {background-color: #d4ebff;}#sk-container-id-1 div.sk-serial::before {content: \"\";position: absolute;border-left: 1px solid gray;box-sizing: border-box;top: 0;bottom: 0;left: 50%;z-index: 0;}#sk-container-id-1 div.sk-serial {display: flex;flex-direction: column;align-items: center;background-color: white;padding-right: 0.2em;padding-left: 0.2em;position: relative;}#sk-container-id-1 div.sk-item {position: relative;z-index: 1;}#sk-container-id-1 div.sk-parallel {display: flex;align-items: stretch;justify-content: center;background-color: white;position: relative;}#sk-container-id-1 div.sk-item::before, #sk-container-id-1 div.sk-parallel-item::before {content: \"\";position: absolute;border-left: 1px solid gray;box-sizing: border-box;top: 0;bottom: 0;left: 50%;z-index: -1;}#sk-container-id-1 div.sk-parallel-item {display: flex;flex-direction: column;z-index: 1;position: relative;background-color: white;}#sk-container-id-1 div.sk-parallel-item:first-child::after {align-self: flex-end;width: 50%;}#sk-container-id-1 div.sk-parallel-item:last-child::after {align-self: flex-start;width: 50%;}#sk-container-id-1 div.sk-parallel-item:only-child::after {width: 0;}#sk-container-id-1 div.sk-dashed-wrapped {border: 1px dashed gray;margin: 0 0.4em 0.5em 0.4em;box-sizing: border-box;padding-bottom: 0.4em;background-color: white;}#sk-container-id-1 div.sk-label label {font-family: monospace;font-weight: bold;display: inline-block;line-height: 1.2em;}#sk-container-id-1 div.sk-label-container {text-align: center;}#sk-container-id-1 div.sk-container {/* jupyter's `normalize.less` sets `[hidden] { display: none; }` but bootstrap.min.css set `[hidden] { display: none !important; }` so we also need the `!important` here to be able to override the default hidden behavior on the sphinx rendered scikit-learn.org. See: https://github.com/scikit-learn/scikit-learn/issues/21755 */display: inline-block !important;position: relative;}#sk-container-id-1 div.sk-text-repr-fallback {display: none;}</style><div id=\"sk-container-id-1\" class=\"sk-top-container\"><div class=\"sk-text-repr-fallback\"><pre>LogisticRegression()</pre><b>In a Jupyter environment, please rerun this cell to show the HTML representation or trust the notebook. <br />On GitHub, the HTML representation is unable to render, please try loading this page with nbviewer.org.</b></div><div class=\"sk-container\" hidden><div class=\"sk-item\"><div class=\"sk-estimator sk-toggleable\"><input class=\"sk-toggleable__control sk-hidden--visually\" id=\"sk-estimator-id-1\" type=\"checkbox\" checked><label for=\"sk-estimator-id-1\" class=\"sk-toggleable__label sk-toggleable__label-arrow\">LogisticRegression</label><div class=\"sk-toggleable__content\"><pre>LogisticRegression()</pre></div></div></div></div></div>"
      ],
      "text/plain": [
       "LogisticRegression()"
      ]
     },
     "execution_count": 44,
     "metadata": {},
     "output_type": "execute_result"
    }
   ],
   "source": [
    "model = LogisticRegression()\n",
    "model.fit(X_train, y_train)"
   ]
  },
  {
   "cell_type": "code",
   "execution_count": 45,
   "id": "c24398c0",
   "metadata": {},
   "outputs": [
    {
     "data": {
      "text/plain": [
       "array([1, 1, 1, 0, 1, 1, 1, 0, 0, 0, 0, 1, 0, 0, 0, 0, 1, 1, 0, 0, 0, 0,\n",
       "       0, 0, 1, 1, 0, 0, 0, 1, 1, 0, 1, 1, 0, 0, 1, 0, 0, 1, 1, 0, 1, 1,\n",
       "       0, 0, 1, 0, 1, 0, 1, 0, 1, 1, 1, 0, 1, 1, 0, 0, 0, 0, 0, 0, 0, 0,\n",
       "       1, 0, 0, 1, 1, 0, 0, 1, 1, 1, 0, 1, 0, 1, 1, 1, 0, 0, 0, 1, 0, 1,\n",
       "       1, 0, 0, 1, 1, 1, 1, 1, 0, 1, 0, 0, 0, 0, 1, 1, 0, 1, 1, 1, 0, 0,\n",
       "       0, 1, 0, 0, 1, 0, 0, 0, 0, 1, 1, 1, 1, 1, 0, 0, 1, 0, 0, 0, 1, 0,\n",
       "       0, 1, 0, 0, 0, 1, 1, 1, 1, 0, 1, 0, 0, 1, 0, 0, 0, 0, 0, 0, 0, 1,\n",
       "       0, 1, 0, 0, 0, 1, 1, 0])"
      ]
     },
     "execution_count": 45,
     "metadata": {},
     "output_type": "execute_result"
    }
   ],
   "source": [
    "model.predict(X_train)"
   ]
  },
  {
   "cell_type": "code",
   "execution_count": 48,
   "id": "7c07e33d",
   "metadata": {},
   "outputs": [
    {
     "data": {
      "text/plain": [
       "array([[0.27441019, 0.72558981],\n",
       "       [0.2138076 , 0.7861924 ],\n",
       "       [0.00833254, 0.99166746],\n",
       "       [0.77908673, 0.22091327],\n",
       "       [0.21370307, 0.78629693],\n",
       "       [0.26071027, 0.73928973],\n",
       "       [0.02911291, 0.97088709],\n",
       "       [0.90579712, 0.09420288],\n",
       "       [0.98527762, 0.01472238],\n",
       "       [0.99033416, 0.00966584],\n",
       "       [0.55106069, 0.44893931],\n",
       "       [0.02980656, 0.97019344],\n",
       "       [0.97396305, 0.02603695],\n",
       "       [0.8099471 , 0.1900529 ],\n",
       "       [0.93101253, 0.06898747],\n",
       "       [0.99548215, 0.00451785],\n",
       "       [0.06204985, 0.93795015],\n",
       "       [0.08724911, 0.91275089],\n",
       "       [0.982644  , 0.017356  ],\n",
       "       [0.86695255, 0.13304745],\n",
       "       [0.80958188, 0.19041812],\n",
       "       [0.95779989, 0.04220011],\n",
       "       [0.79763932, 0.20236068],\n",
       "       [0.94808401, 0.05191599],\n",
       "       [0.02979706, 0.97020294],\n",
       "       [0.02036849, 0.97963151],\n",
       "       [0.74403507, 0.25596493],\n",
       "       [0.96744137, 0.03255863],\n",
       "       [0.84856512, 0.15143488],\n",
       "       [0.08706716, 0.91293284],\n",
       "       [0.4643875 , 0.5356125 ],\n",
       "       [0.6056074 , 0.3943926 ],\n",
       "       [0.27192794, 0.72807206],\n",
       "       [0.12827777, 0.87172223],\n",
       "       [0.98732546, 0.01267454],\n",
       "       [0.81318704, 0.18681296],\n",
       "       [0.01018764, 0.98981236],\n",
       "       [0.7170375 , 0.2829625 ],\n",
       "       [0.94950374, 0.05049626],\n",
       "       [0.28188872, 0.71811128],\n",
       "       [0.02793926, 0.97206074],\n",
       "       [0.94686054, 0.05313946],\n",
       "       [0.11708379, 0.88291621],\n",
       "       [0.00717528, 0.99282472],\n",
       "       [0.98618405, 0.01381595],\n",
       "       [0.92318678, 0.07681322],\n",
       "       [0.00361436, 0.99638564],\n",
       "       [0.93567908, 0.06432092],\n",
       "       [0.00570004, 0.99429996],\n",
       "       [0.96418065, 0.03581935],\n",
       "       [0.40700286, 0.59299714],\n",
       "       [0.88885975, 0.11114025],\n",
       "       [0.41258143, 0.58741857],\n",
       "       [0.33895404, 0.66104596],\n",
       "       [0.05744074, 0.94255926],\n",
       "       [0.85416603, 0.14583397],\n",
       "       [0.42844942, 0.57155058],\n",
       "       [0.00853358, 0.99146642],\n",
       "       [0.71673982, 0.28326018],\n",
       "       [0.9910508 , 0.0089492 ],\n",
       "       [0.70703946, 0.29296054],\n",
       "       [0.86667789, 0.13332211],\n",
       "       [0.85871515, 0.14128485],\n",
       "       [0.98449617, 0.01550383],\n",
       "       [0.97136546, 0.02863454],\n",
       "       [0.93865482, 0.06134518],\n",
       "       [0.19882884, 0.80117116],\n",
       "       [0.98339282, 0.01660718],\n",
       "       [0.98906264, 0.01093736],\n",
       "       [0.09778089, 0.90221911],\n",
       "       [0.03772371, 0.96227629],\n",
       "       [0.97157599, 0.02842401],\n",
       "       [0.93462949, 0.06537051],\n",
       "       [0.05500091, 0.94499909],\n",
       "       [0.07295324, 0.92704676],\n",
       "       [0.17848229, 0.82151771],\n",
       "       [0.51683002, 0.48316998],\n",
       "       [0.38111218, 0.61888782],\n",
       "       [0.64000273, 0.35999727],\n",
       "       [0.10473672, 0.89526328],\n",
       "       [0.00446768, 0.99553232],\n",
       "       [0.00326627, 0.99673373],\n",
       "       [0.95516535, 0.04483465],\n",
       "       [0.82241065, 0.17758935],\n",
       "       [0.98691551, 0.01308449],\n",
       "       [0.33136787, 0.66863213],\n",
       "       [0.97630291, 0.02369709],\n",
       "       [0.01750468, 0.98249532],\n",
       "       [0.1013896 , 0.8986104 ],\n",
       "       [0.99428809, 0.00571191],\n",
       "       [0.62339964, 0.37660036],\n",
       "       [0.00976002, 0.99023998],\n",
       "       [0.01463209, 0.98536791],\n",
       "       [0.39971939, 0.60028061],\n",
       "       [0.00761056, 0.99238944],\n",
       "       [0.42233675, 0.57766325],\n",
       "       [0.92137199, 0.07862801],\n",
       "       [0.24436849, 0.75563151],\n",
       "       [0.9878569 , 0.0121431 ],\n",
       "       [0.95153302, 0.04846698],\n",
       "       [0.87180222, 0.12819778],\n",
       "       [0.85405897, 0.14594103],\n",
       "       [0.00871082, 0.99128918],\n",
       "       [0.05811456, 0.94188544],\n",
       "       [0.98365308, 0.01634692],\n",
       "       [0.15712351, 0.84287649],\n",
       "       [0.17454523, 0.82545477],\n",
       "       [0.02357382, 0.97642618],\n",
       "       [0.8205585 , 0.1794415 ],\n",
       "       [0.98258038, 0.01741962],\n",
       "       [0.87131394, 0.12868606],\n",
       "       [0.00219948, 0.99780052],\n",
       "       [0.81565306, 0.18434694],\n",
       "       [0.97366535, 0.02633465],\n",
       "       [0.37473193, 0.62526807],\n",
       "       [0.92978517, 0.07021483],\n",
       "       [0.90573235, 0.09426765],\n",
       "       [0.95633813, 0.04366187],\n",
       "       [0.98054886, 0.01945114],\n",
       "       [0.44337587, 0.55662413],\n",
       "       [0.36861469, 0.63138531],\n",
       "       [0.22868446, 0.77131554],\n",
       "       [0.28403956, 0.71596044],\n",
       "       [0.35025966, 0.64974034],\n",
       "       [0.9607548 , 0.0392452 ],\n",
       "       [0.55983346, 0.44016654],\n",
       "       [0.22928159, 0.77071841],\n",
       "       [0.85193859, 0.14806141],\n",
       "       [0.72859568, 0.27140432],\n",
       "       [0.98065633, 0.01934367],\n",
       "       [0.32002351, 0.67997649],\n",
       "       [0.98259467, 0.01740533],\n",
       "       [0.97679599, 0.02320401],\n",
       "       [0.11864207, 0.88135793],\n",
       "       [0.9488433 , 0.0511567 ],\n",
       "       [0.96582459, 0.03417541],\n",
       "       [0.89242863, 0.10757137],\n",
       "       [0.09696925, 0.90303075],\n",
       "       [0.10068695, 0.89931305],\n",
       "       [0.10399563, 0.89600437],\n",
       "       [0.00791097, 0.99208903],\n",
       "       [0.75848804, 0.24151196],\n",
       "       [0.10381874, 0.89618126],\n",
       "       [0.92744611, 0.07255389],\n",
       "       [0.98559391, 0.01440609],\n",
       "       [0.03877309, 0.96122691],\n",
       "       [0.79638615, 0.20361385],\n",
       "       [0.89127934, 0.10872066],\n",
       "       [0.99010024, 0.00989976],\n",
       "       [0.66702698, 0.33297302],\n",
       "       [0.91532997, 0.08467003],\n",
       "       [0.93989621, 0.06010379],\n",
       "       [0.98355467, 0.01644533],\n",
       "       [0.23635695, 0.76364305],\n",
       "       [0.97607745, 0.02392255],\n",
       "       [0.12111226, 0.87888774],\n",
       "       [0.86769639, 0.13230361],\n",
       "       [0.66368675, 0.33631325],\n",
       "       [0.99099248, 0.00900752],\n",
       "       [0.0656201 , 0.9343799 ],\n",
       "       [0.00775657, 0.99224343],\n",
       "       [0.83724672, 0.16275328]])"
      ]
     },
     "execution_count": 48,
     "metadata": {},
     "output_type": "execute_result"
    }
   ],
   "source": [
    "model.predict_proba(X_train)"
   ]
  },
  {
   "cell_type": "code",
   "execution_count": 49,
   "id": "70185dec",
   "metadata": {},
   "outputs": [],
   "source": [
    "y_pred = model.predict_proba(X_train)[:,1]"
   ]
  },
  {
   "cell_type": "code",
   "execution_count": 51,
   "id": "ad9eaf47",
   "metadata": {},
   "outputs": [],
   "source": [
    "heart_disease_decision = (y_pred >= 0.5)"
   ]
  },
  {
   "cell_type": "code",
   "execution_count": 52,
   "id": "6ee40821",
   "metadata": {},
   "outputs": [
    {
     "data": {
      "text/plain": [
       "array([ True,  True,  True, False,  True,  True,  True, False, False,\n",
       "       False, False,  True, False, False, False, False,  True,  True,\n",
       "       False, False, False, False, False, False,  True,  True, False,\n",
       "       False, False,  True,  True, False,  True,  True, False, False,\n",
       "        True, False, False,  True,  True, False,  True,  True, False,\n",
       "       False,  True, False,  True, False,  True, False,  True,  True,\n",
       "        True, False,  True,  True, False, False, False, False, False,\n",
       "       False, False, False,  True, False, False,  True,  True, False,\n",
       "       False,  True,  True,  True, False,  True, False,  True,  True,\n",
       "        True, False, False, False,  True, False,  True,  True, False,\n",
       "       False,  True,  True,  True,  True,  True, False,  True, False,\n",
       "       False, False, False,  True,  True, False,  True,  True,  True,\n",
       "       False, False, False,  True, False, False,  True, False, False,\n",
       "       False, False,  True,  True,  True,  True,  True, False, False,\n",
       "        True, False, False, False,  True, False, False,  True, False,\n",
       "       False, False,  True,  True,  True,  True, False,  True, False,\n",
       "       False,  True, False, False, False, False, False, False, False,\n",
       "        True, False,  True, False, False, False,  True,  True, False])"
      ]
     },
     "execution_count": 52,
     "metadata": {},
     "output_type": "execute_result"
    }
   ],
   "source": [
    "heart_disease_decision"
   ]
  },
  {
   "cell_type": "code",
   "execution_count": 53,
   "id": "ed912e8c",
   "metadata": {},
   "outputs": [
    {
     "data": {
      "text/plain": [
       "0.8950617283950617"
      ]
     },
     "execution_count": 53,
     "metadata": {},
     "output_type": "execute_result"
    }
   ],
   "source": [
    "(y_train == heart_disease_decision).mean()"
   ]
  },
  {
   "cell_type": "code",
   "execution_count": 54,
   "id": "c34009f6",
   "metadata": {},
   "outputs": [],
   "source": [
    "df_pred = pd.DataFrame()\n",
    "df_pred['probability'] = y_pred\n",
    "df_pred['prediction'] = heart_disease_decision.astype(int)\n",
    "df_pred['actual'] = y_train"
   ]
  },
  {
   "cell_type": "code",
   "execution_count": 55,
   "id": "e0e8e25d",
   "metadata": {},
   "outputs": [],
   "source": [
    "df_pred['correct'] = df_pred.prediction == df_pred.actual"
   ]
  },
  {
   "cell_type": "code",
   "execution_count": 56,
   "id": "ae416939",
   "metadata": {},
   "outputs": [
    {
     "data": {
      "text/html": [
       "<div>\n",
       "<style scoped>\n",
       "    .dataframe tbody tr th:only-of-type {\n",
       "        vertical-align: middle;\n",
       "    }\n",
       "\n",
       "    .dataframe tbody tr th {\n",
       "        vertical-align: top;\n",
       "    }\n",
       "\n",
       "    .dataframe thead th {\n",
       "        text-align: right;\n",
       "    }\n",
       "</style>\n",
       "<table border=\"1\" class=\"dataframe\">\n",
       "  <thead>\n",
       "    <tr style=\"text-align: right;\">\n",
       "      <th></th>\n",
       "      <th>probability</th>\n",
       "      <th>prediction</th>\n",
       "      <th>actual</th>\n",
       "      <th>correct</th>\n",
       "    </tr>\n",
       "  </thead>\n",
       "  <tbody>\n",
       "    <tr>\n",
       "      <th>0</th>\n",
       "      <td>0.725590</td>\n",
       "      <td>1</td>\n",
       "      <td>1</td>\n",
       "      <td>True</td>\n",
       "    </tr>\n",
       "    <tr>\n",
       "      <th>1</th>\n",
       "      <td>0.786192</td>\n",
       "      <td>1</td>\n",
       "      <td>1</td>\n",
       "      <td>True</td>\n",
       "    </tr>\n",
       "    <tr>\n",
       "      <th>2</th>\n",
       "      <td>0.991667</td>\n",
       "      <td>1</td>\n",
       "      <td>1</td>\n",
       "      <td>True</td>\n",
       "    </tr>\n",
       "    <tr>\n",
       "      <th>3</th>\n",
       "      <td>0.220913</td>\n",
       "      <td>0</td>\n",
       "      <td>0</td>\n",
       "      <td>True</td>\n",
       "    </tr>\n",
       "    <tr>\n",
       "      <th>4</th>\n",
       "      <td>0.786297</td>\n",
       "      <td>1</td>\n",
       "      <td>1</td>\n",
       "      <td>True</td>\n",
       "    </tr>\n",
       "    <tr>\n",
       "      <th>...</th>\n",
       "      <td>...</td>\n",
       "      <td>...</td>\n",
       "      <td>...</td>\n",
       "      <td>...</td>\n",
       "    </tr>\n",
       "    <tr>\n",
       "      <th>157</th>\n",
       "      <td>0.336313</td>\n",
       "      <td>0</td>\n",
       "      <td>1</td>\n",
       "      <td>False</td>\n",
       "    </tr>\n",
       "    <tr>\n",
       "      <th>158</th>\n",
       "      <td>0.009008</td>\n",
       "      <td>0</td>\n",
       "      <td>0</td>\n",
       "      <td>True</td>\n",
       "    </tr>\n",
       "    <tr>\n",
       "      <th>159</th>\n",
       "      <td>0.934380</td>\n",
       "      <td>1</td>\n",
       "      <td>1</td>\n",
       "      <td>True</td>\n",
       "    </tr>\n",
       "    <tr>\n",
       "      <th>160</th>\n",
       "      <td>0.992243</td>\n",
       "      <td>1</td>\n",
       "      <td>1</td>\n",
       "      <td>True</td>\n",
       "    </tr>\n",
       "    <tr>\n",
       "      <th>161</th>\n",
       "      <td>0.162753</td>\n",
       "      <td>0</td>\n",
       "      <td>0</td>\n",
       "      <td>True</td>\n",
       "    </tr>\n",
       "  </tbody>\n",
       "</table>\n",
       "<p>162 rows × 4 columns</p>\n",
       "</div>"
      ],
      "text/plain": [
       "     probability  prediction  actual  correct\n",
       "0       0.725590           1       1     True\n",
       "1       0.786192           1       1     True\n",
       "2       0.991667           1       1     True\n",
       "3       0.220913           0       0     True\n",
       "4       0.786297           1       1     True\n",
       "..           ...         ...     ...      ...\n",
       "157     0.336313           0       1    False\n",
       "158     0.009008           0       0     True\n",
       "159     0.934380           1       1     True\n",
       "160     0.992243           1       1     True\n",
       "161     0.162753           0       0     True\n",
       "\n",
       "[162 rows x 4 columns]"
      ]
     },
     "execution_count": 56,
     "metadata": {},
     "output_type": "execute_result"
    }
   ],
   "source": [
    "df_pred"
   ]
  },
  {
   "cell_type": "code",
   "execution_count": 57,
   "id": "1b5a67c2",
   "metadata": {},
   "outputs": [
    {
     "data": {
      "text/plain": [
       "0.8950617283950617"
      ]
     },
     "execution_count": 57,
     "metadata": {},
     "output_type": "execute_result"
    }
   ],
   "source": [
    "df_pred.correct.mean()"
   ]
  },
  {
   "cell_type": "code",
   "execution_count": 59,
   "id": "01fcce95",
   "metadata": {},
   "outputs": [
    {
     "name": "stderr",
     "output_type": "stream",
     "text": [
      "/home/dell/anaconda3/lib/python3.11/site-packages/sklearn/linear_model/_logistic.py:460: ConvergenceWarning: lbfgs failed to converge (status=1):\n",
      "STOP: TOTAL NO. of ITERATIONS REACHED LIMIT.\n",
      "\n",
      "Increase the number of iterations (max_iter) or scale the data as shown in:\n",
      "    https://scikit-learn.org/stable/modules/preprocessing.html\n",
      "Please also refer to the documentation for alternative solver options:\n",
      "    https://scikit-learn.org/stable/modules/linear_model.html#logistic-regression\n",
      "  n_iter_i = _check_optimize_result(\n"
     ]
    },
    {
     "data": {
      "text/html": [
       "<style>#sk-container-id-2 {color: black;}#sk-container-id-2 pre{padding: 0;}#sk-container-id-2 div.sk-toggleable {background-color: white;}#sk-container-id-2 label.sk-toggleable__label {cursor: pointer;display: block;width: 100%;margin-bottom: 0;padding: 0.3em;box-sizing: border-box;text-align: center;}#sk-container-id-2 label.sk-toggleable__label-arrow:before {content: \"▸\";float: left;margin-right: 0.25em;color: #696969;}#sk-container-id-2 label.sk-toggleable__label-arrow:hover:before {color: black;}#sk-container-id-2 div.sk-estimator:hover label.sk-toggleable__label-arrow:before {color: black;}#sk-container-id-2 div.sk-toggleable__content {max-height: 0;max-width: 0;overflow: hidden;text-align: left;background-color: #f0f8ff;}#sk-container-id-2 div.sk-toggleable__content pre {margin: 0.2em;color: black;border-radius: 0.25em;background-color: #f0f8ff;}#sk-container-id-2 input.sk-toggleable__control:checked~div.sk-toggleable__content {max-height: 200px;max-width: 100%;overflow: auto;}#sk-container-id-2 input.sk-toggleable__control:checked~label.sk-toggleable__label-arrow:before {content: \"▾\";}#sk-container-id-2 div.sk-estimator input.sk-toggleable__control:checked~label.sk-toggleable__label {background-color: #d4ebff;}#sk-container-id-2 div.sk-label input.sk-toggleable__control:checked~label.sk-toggleable__label {background-color: #d4ebff;}#sk-container-id-2 input.sk-hidden--visually {border: 0;clip: rect(1px 1px 1px 1px);clip: rect(1px, 1px, 1px, 1px);height: 1px;margin: -1px;overflow: hidden;padding: 0;position: absolute;width: 1px;}#sk-container-id-2 div.sk-estimator {font-family: monospace;background-color: #f0f8ff;border: 1px dotted black;border-radius: 0.25em;box-sizing: border-box;margin-bottom: 0.5em;}#sk-container-id-2 div.sk-estimator:hover {background-color: #d4ebff;}#sk-container-id-2 div.sk-parallel-item::after {content: \"\";width: 100%;border-bottom: 1px solid gray;flex-grow: 1;}#sk-container-id-2 div.sk-label:hover label.sk-toggleable__label {background-color: #d4ebff;}#sk-container-id-2 div.sk-serial::before {content: \"\";position: absolute;border-left: 1px solid gray;box-sizing: border-box;top: 0;bottom: 0;left: 50%;z-index: 0;}#sk-container-id-2 div.sk-serial {display: flex;flex-direction: column;align-items: center;background-color: white;padding-right: 0.2em;padding-left: 0.2em;position: relative;}#sk-container-id-2 div.sk-item {position: relative;z-index: 1;}#sk-container-id-2 div.sk-parallel {display: flex;align-items: stretch;justify-content: center;background-color: white;position: relative;}#sk-container-id-2 div.sk-item::before, #sk-container-id-2 div.sk-parallel-item::before {content: \"\";position: absolute;border-left: 1px solid gray;box-sizing: border-box;top: 0;bottom: 0;left: 50%;z-index: -1;}#sk-container-id-2 div.sk-parallel-item {display: flex;flex-direction: column;z-index: 1;position: relative;background-color: white;}#sk-container-id-2 div.sk-parallel-item:first-child::after {align-self: flex-end;width: 50%;}#sk-container-id-2 div.sk-parallel-item:last-child::after {align-self: flex-start;width: 50%;}#sk-container-id-2 div.sk-parallel-item:only-child::after {width: 0;}#sk-container-id-2 div.sk-dashed-wrapped {border: 1px dashed gray;margin: 0 0.4em 0.5em 0.4em;box-sizing: border-box;padding-bottom: 0.4em;background-color: white;}#sk-container-id-2 div.sk-label label {font-family: monospace;font-weight: bold;display: inline-block;line-height: 1.2em;}#sk-container-id-2 div.sk-label-container {text-align: center;}#sk-container-id-2 div.sk-container {/* jupyter's `normalize.less` sets `[hidden] { display: none; }` but bootstrap.min.css set `[hidden] { display: none !important; }` so we also need the `!important` here to be able to override the default hidden behavior on the sphinx rendered scikit-learn.org. See: https://github.com/scikit-learn/scikit-learn/issues/21755 */display: inline-block !important;position: relative;}#sk-container-id-2 div.sk-text-repr-fallback {display: none;}</style><div id=\"sk-container-id-2\" class=\"sk-top-container\"><div class=\"sk-text-repr-fallback\"><pre>LogisticRegression()</pre><b>In a Jupyter environment, please rerun this cell to show the HTML representation or trust the notebook. <br />On GitHub, the HTML representation is unable to render, please try loading this page with nbviewer.org.</b></div><div class=\"sk-container\" hidden><div class=\"sk-item\"><div class=\"sk-estimator sk-toggleable\"><input class=\"sk-toggleable__control sk-hidden--visually\" id=\"sk-estimator-id-2\" type=\"checkbox\" checked><label for=\"sk-estimator-id-2\" class=\"sk-toggleable__label sk-toggleable__label-arrow\">LogisticRegression</label><div class=\"sk-toggleable__content\"><pre>LogisticRegression()</pre></div></div></div></div></div>"
      ],
      "text/plain": [
       "LogisticRegression()"
      ]
     },
     "execution_count": 59,
     "metadata": {},
     "output_type": "execute_result"
    }
   ],
   "source": [
    "model = LogisticRegression()\n",
    "model.fit(X_val, y_val)"
   ]
  },
  {
   "cell_type": "code",
   "execution_count": 60,
   "id": "a488524d",
   "metadata": {},
   "outputs": [],
   "source": [
    "y_pred = model.predict_proba(X_val)[:,1]"
   ]
  },
  {
   "cell_type": "code",
   "execution_count": 62,
   "id": "010eb238",
   "metadata": {},
   "outputs": [
    {
     "data": {
      "text/plain": [
       "array([False, False, False, False,  True,  True,  True, False,  True,\n",
       "       False, False, False,  True,  True,  True,  True,  True, False,\n",
       "       False, False, False,  True, False, False, False,  True, False,\n",
       "       False, False,  True, False,  True,  True, False,  True, False,\n",
       "       False, False,  True,  True,  True, False, False,  True, False,\n",
       "        True,  True,  True, False, False,  True, False,  True, False])"
      ]
     },
     "execution_count": 62,
     "metadata": {},
     "output_type": "execute_result"
    }
   ],
   "source": [
    "heart_disease_decision"
   ]
  },
  {
   "cell_type": "code",
   "execution_count": 63,
   "id": "fd1ea233",
   "metadata": {},
   "outputs": [
    {
     "data": {
      "text/plain": [
       "0.8888888888888888"
      ]
     },
     "execution_count": 63,
     "metadata": {},
     "output_type": "execute_result"
    }
   ],
   "source": [
    "(y_val == heart_disease_decision).mean()"
   ]
  },
  {
   "cell_type": "code",
   "execution_count": 64,
   "id": "c0597a5d",
   "metadata": {},
   "outputs": [],
   "source": [
    "test_dicts = df_test[categorical + numerical].to_dict(orient='records')"
   ]
  },
  {
   "cell_type": "code",
   "execution_count": 65,
   "id": "f22175dd",
   "metadata": {},
   "outputs": [],
   "source": [
    "X_test = dv.transform(test_dicts)"
   ]
  },
  {
   "cell_type": "code",
   "execution_count": 66,
   "id": "bacbd7d3",
   "metadata": {},
   "outputs": [
    {
     "name": "stderr",
     "output_type": "stream",
     "text": [
      "/home/dell/anaconda3/lib/python3.11/site-packages/sklearn/linear_model/_logistic.py:460: ConvergenceWarning: lbfgs failed to converge (status=1):\n",
      "STOP: TOTAL NO. of ITERATIONS REACHED LIMIT.\n",
      "\n",
      "Increase the number of iterations (max_iter) or scale the data as shown in:\n",
      "    https://scikit-learn.org/stable/modules/preprocessing.html\n",
      "Please also refer to the documentation for alternative solver options:\n",
      "    https://scikit-learn.org/stable/modules/linear_model.html#logistic-regression\n",
      "  n_iter_i = _check_optimize_result(\n"
     ]
    },
    {
     "data": {
      "text/html": [
       "<style>#sk-container-id-3 {color: black;}#sk-container-id-3 pre{padding: 0;}#sk-container-id-3 div.sk-toggleable {background-color: white;}#sk-container-id-3 label.sk-toggleable__label {cursor: pointer;display: block;width: 100%;margin-bottom: 0;padding: 0.3em;box-sizing: border-box;text-align: center;}#sk-container-id-3 label.sk-toggleable__label-arrow:before {content: \"▸\";float: left;margin-right: 0.25em;color: #696969;}#sk-container-id-3 label.sk-toggleable__label-arrow:hover:before {color: black;}#sk-container-id-3 div.sk-estimator:hover label.sk-toggleable__label-arrow:before {color: black;}#sk-container-id-3 div.sk-toggleable__content {max-height: 0;max-width: 0;overflow: hidden;text-align: left;background-color: #f0f8ff;}#sk-container-id-3 div.sk-toggleable__content pre {margin: 0.2em;color: black;border-radius: 0.25em;background-color: #f0f8ff;}#sk-container-id-3 input.sk-toggleable__control:checked~div.sk-toggleable__content {max-height: 200px;max-width: 100%;overflow: auto;}#sk-container-id-3 input.sk-toggleable__control:checked~label.sk-toggleable__label-arrow:before {content: \"▾\";}#sk-container-id-3 div.sk-estimator input.sk-toggleable__control:checked~label.sk-toggleable__label {background-color: #d4ebff;}#sk-container-id-3 div.sk-label input.sk-toggleable__control:checked~label.sk-toggleable__label {background-color: #d4ebff;}#sk-container-id-3 input.sk-hidden--visually {border: 0;clip: rect(1px 1px 1px 1px);clip: rect(1px, 1px, 1px, 1px);height: 1px;margin: -1px;overflow: hidden;padding: 0;position: absolute;width: 1px;}#sk-container-id-3 div.sk-estimator {font-family: monospace;background-color: #f0f8ff;border: 1px dotted black;border-radius: 0.25em;box-sizing: border-box;margin-bottom: 0.5em;}#sk-container-id-3 div.sk-estimator:hover {background-color: #d4ebff;}#sk-container-id-3 div.sk-parallel-item::after {content: \"\";width: 100%;border-bottom: 1px solid gray;flex-grow: 1;}#sk-container-id-3 div.sk-label:hover label.sk-toggleable__label {background-color: #d4ebff;}#sk-container-id-3 div.sk-serial::before {content: \"\";position: absolute;border-left: 1px solid gray;box-sizing: border-box;top: 0;bottom: 0;left: 50%;z-index: 0;}#sk-container-id-3 div.sk-serial {display: flex;flex-direction: column;align-items: center;background-color: white;padding-right: 0.2em;padding-left: 0.2em;position: relative;}#sk-container-id-3 div.sk-item {position: relative;z-index: 1;}#sk-container-id-3 div.sk-parallel {display: flex;align-items: stretch;justify-content: center;background-color: white;position: relative;}#sk-container-id-3 div.sk-item::before, #sk-container-id-3 div.sk-parallel-item::before {content: \"\";position: absolute;border-left: 1px solid gray;box-sizing: border-box;top: 0;bottom: 0;left: 50%;z-index: -1;}#sk-container-id-3 div.sk-parallel-item {display: flex;flex-direction: column;z-index: 1;position: relative;background-color: white;}#sk-container-id-3 div.sk-parallel-item:first-child::after {align-self: flex-end;width: 50%;}#sk-container-id-3 div.sk-parallel-item:last-child::after {align-self: flex-start;width: 50%;}#sk-container-id-3 div.sk-parallel-item:only-child::after {width: 0;}#sk-container-id-3 div.sk-dashed-wrapped {border: 1px dashed gray;margin: 0 0.4em 0.5em 0.4em;box-sizing: border-box;padding-bottom: 0.4em;background-color: white;}#sk-container-id-3 div.sk-label label {font-family: monospace;font-weight: bold;display: inline-block;line-height: 1.2em;}#sk-container-id-3 div.sk-label-container {text-align: center;}#sk-container-id-3 div.sk-container {/* jupyter's `normalize.less` sets `[hidden] { display: none; }` but bootstrap.min.css set `[hidden] { display: none !important; }` so we also need the `!important` here to be able to override the default hidden behavior on the sphinx rendered scikit-learn.org. See: https://github.com/scikit-learn/scikit-learn/issues/21755 */display: inline-block !important;position: relative;}#sk-container-id-3 div.sk-text-repr-fallback {display: none;}</style><div id=\"sk-container-id-3\" class=\"sk-top-container\"><div class=\"sk-text-repr-fallback\"><pre>LogisticRegression()</pre><b>In a Jupyter environment, please rerun this cell to show the HTML representation or trust the notebook. <br />On GitHub, the HTML representation is unable to render, please try loading this page with nbviewer.org.</b></div><div class=\"sk-container\" hidden><div class=\"sk-item\"><div class=\"sk-estimator sk-toggleable\"><input class=\"sk-toggleable__control sk-hidden--visually\" id=\"sk-estimator-id-3\" type=\"checkbox\" checked><label for=\"sk-estimator-id-3\" class=\"sk-toggleable__label sk-toggleable__label-arrow\">LogisticRegression</label><div class=\"sk-toggleable__content\"><pre>LogisticRegression()</pre></div></div></div></div></div>"
      ],
      "text/plain": [
       "LogisticRegression()"
      ]
     },
     "execution_count": 66,
     "metadata": {},
     "output_type": "execute_result"
    }
   ],
   "source": [
    "model = LogisticRegression()\n",
    "model.fit(X_test, y_test)"
   ]
  },
  {
   "cell_type": "code",
   "execution_count": 68,
   "id": "f20df4d4",
   "metadata": {},
   "outputs": [],
   "source": [
    "y_pred = model.predict_proba(X_test)[:,1]"
   ]
  },
  {
   "cell_type": "code",
   "execution_count": 69,
   "id": "39e99384",
   "metadata": {},
   "outputs": [],
   "source": [
    "heart_disease_decision = (y_pred >= 0.5)"
   ]
  },
  {
   "cell_type": "code",
   "execution_count": 72,
   "id": "00d2d844",
   "metadata": {},
   "outputs": [
    {
     "data": {
      "text/plain": [
       "0.8888888888888888"
      ]
     },
     "execution_count": 72,
     "metadata": {},
     "output_type": "execute_result"
    }
   ],
   "source": [
    "(y_test == heart_disease_decision).mean()"
   ]
  },
  {
   "cell_type": "code",
   "execution_count": 73,
   "id": "98563bc3",
   "metadata": {},
   "outputs": [],
   "source": [
    "dicts_full_train = df_full_train[categorical + numerical].to_dict(orient='records')"
   ]
  },
  {
   "cell_type": "code",
   "execution_count": 74,
   "id": "c7b4fd74",
   "metadata": {},
   "outputs": [],
   "source": [
    "X_full_train = dv.transform(dicts_full_train)"
   ]
  },
  {
   "cell_type": "code",
   "execution_count": 76,
   "id": "e71c82c5",
   "metadata": {},
   "outputs": [],
   "source": [
    "y_full_train = df_full_train.heart_disease.values"
   ]
  },
  {
   "cell_type": "code",
   "execution_count": 77,
   "id": "12afcc33",
   "metadata": {},
   "outputs": [
    {
     "name": "stderr",
     "output_type": "stream",
     "text": [
      "/home/dell/anaconda3/lib/python3.11/site-packages/sklearn/linear_model/_logistic.py:460: ConvergenceWarning: lbfgs failed to converge (status=1):\n",
      "STOP: TOTAL NO. of ITERATIONS REACHED LIMIT.\n",
      "\n",
      "Increase the number of iterations (max_iter) or scale the data as shown in:\n",
      "    https://scikit-learn.org/stable/modules/preprocessing.html\n",
      "Please also refer to the documentation for alternative solver options:\n",
      "    https://scikit-learn.org/stable/modules/linear_model.html#logistic-regression\n",
      "  n_iter_i = _check_optimize_result(\n"
     ]
    },
    {
     "data": {
      "text/html": [
       "<style>#sk-container-id-4 {color: black;}#sk-container-id-4 pre{padding: 0;}#sk-container-id-4 div.sk-toggleable {background-color: white;}#sk-container-id-4 label.sk-toggleable__label {cursor: pointer;display: block;width: 100%;margin-bottom: 0;padding: 0.3em;box-sizing: border-box;text-align: center;}#sk-container-id-4 label.sk-toggleable__label-arrow:before {content: \"▸\";float: left;margin-right: 0.25em;color: #696969;}#sk-container-id-4 label.sk-toggleable__label-arrow:hover:before {color: black;}#sk-container-id-4 div.sk-estimator:hover label.sk-toggleable__label-arrow:before {color: black;}#sk-container-id-4 div.sk-toggleable__content {max-height: 0;max-width: 0;overflow: hidden;text-align: left;background-color: #f0f8ff;}#sk-container-id-4 div.sk-toggleable__content pre {margin: 0.2em;color: black;border-radius: 0.25em;background-color: #f0f8ff;}#sk-container-id-4 input.sk-toggleable__control:checked~div.sk-toggleable__content {max-height: 200px;max-width: 100%;overflow: auto;}#sk-container-id-4 input.sk-toggleable__control:checked~label.sk-toggleable__label-arrow:before {content: \"▾\";}#sk-container-id-4 div.sk-estimator input.sk-toggleable__control:checked~label.sk-toggleable__label {background-color: #d4ebff;}#sk-container-id-4 div.sk-label input.sk-toggleable__control:checked~label.sk-toggleable__label {background-color: #d4ebff;}#sk-container-id-4 input.sk-hidden--visually {border: 0;clip: rect(1px 1px 1px 1px);clip: rect(1px, 1px, 1px, 1px);height: 1px;margin: -1px;overflow: hidden;padding: 0;position: absolute;width: 1px;}#sk-container-id-4 div.sk-estimator {font-family: monospace;background-color: #f0f8ff;border: 1px dotted black;border-radius: 0.25em;box-sizing: border-box;margin-bottom: 0.5em;}#sk-container-id-4 div.sk-estimator:hover {background-color: #d4ebff;}#sk-container-id-4 div.sk-parallel-item::after {content: \"\";width: 100%;border-bottom: 1px solid gray;flex-grow: 1;}#sk-container-id-4 div.sk-label:hover label.sk-toggleable__label {background-color: #d4ebff;}#sk-container-id-4 div.sk-serial::before {content: \"\";position: absolute;border-left: 1px solid gray;box-sizing: border-box;top: 0;bottom: 0;left: 50%;z-index: 0;}#sk-container-id-4 div.sk-serial {display: flex;flex-direction: column;align-items: center;background-color: white;padding-right: 0.2em;padding-left: 0.2em;position: relative;}#sk-container-id-4 div.sk-item {position: relative;z-index: 1;}#sk-container-id-4 div.sk-parallel {display: flex;align-items: stretch;justify-content: center;background-color: white;position: relative;}#sk-container-id-4 div.sk-item::before, #sk-container-id-4 div.sk-parallel-item::before {content: \"\";position: absolute;border-left: 1px solid gray;box-sizing: border-box;top: 0;bottom: 0;left: 50%;z-index: -1;}#sk-container-id-4 div.sk-parallel-item {display: flex;flex-direction: column;z-index: 1;position: relative;background-color: white;}#sk-container-id-4 div.sk-parallel-item:first-child::after {align-self: flex-end;width: 50%;}#sk-container-id-4 div.sk-parallel-item:last-child::after {align-self: flex-start;width: 50%;}#sk-container-id-4 div.sk-parallel-item:only-child::after {width: 0;}#sk-container-id-4 div.sk-dashed-wrapped {border: 1px dashed gray;margin: 0 0.4em 0.5em 0.4em;box-sizing: border-box;padding-bottom: 0.4em;background-color: white;}#sk-container-id-4 div.sk-label label {font-family: monospace;font-weight: bold;display: inline-block;line-height: 1.2em;}#sk-container-id-4 div.sk-label-container {text-align: center;}#sk-container-id-4 div.sk-container {/* jupyter's `normalize.less` sets `[hidden] { display: none; }` but bootstrap.min.css set `[hidden] { display: none !important; }` so we also need the `!important` here to be able to override the default hidden behavior on the sphinx rendered scikit-learn.org. See: https://github.com/scikit-learn/scikit-learn/issues/21755 */display: inline-block !important;position: relative;}#sk-container-id-4 div.sk-text-repr-fallback {display: none;}</style><div id=\"sk-container-id-4\" class=\"sk-top-container\"><div class=\"sk-text-repr-fallback\"><pre>LogisticRegression()</pre><b>In a Jupyter environment, please rerun this cell to show the HTML representation or trust the notebook. <br />On GitHub, the HTML representation is unable to render, please try loading this page with nbviewer.org.</b></div><div class=\"sk-container\" hidden><div class=\"sk-item\"><div class=\"sk-estimator sk-toggleable\"><input class=\"sk-toggleable__control sk-hidden--visually\" id=\"sk-estimator-id-4\" type=\"checkbox\" checked><label for=\"sk-estimator-id-4\" class=\"sk-toggleable__label sk-toggleable__label-arrow\">LogisticRegression</label><div class=\"sk-toggleable__content\"><pre>LogisticRegression()</pre></div></div></div></div></div>"
      ],
      "text/plain": [
       "LogisticRegression()"
      ]
     },
     "execution_count": 77,
     "metadata": {},
     "output_type": "execute_result"
    }
   ],
   "source": [
    "model = LogisticRegression()\n",
    "model.fit(X_full_train, y_full_train)"
   ]
  },
  {
   "cell_type": "code",
   "execution_count": 78,
   "id": "bdfb7df8",
   "metadata": {},
   "outputs": [],
   "source": [
    "y_pred = model.predict_proba(X_test)[:,1]"
   ]
  },
  {
   "cell_type": "code",
   "execution_count": 79,
   "id": "a08839c2",
   "metadata": {},
   "outputs": [],
   "source": [
    "heart_disease_decision = (y_pred >= 0.5)"
   ]
  },
  {
   "cell_type": "code",
   "execution_count": 80,
   "id": "89c4422a",
   "metadata": {},
   "outputs": [
    {
     "data": {
      "text/plain": [
       "0.8333333333333334"
      ]
     },
     "execution_count": 80,
     "metadata": {},
     "output_type": "execute_result"
    }
   ],
   "source": [
    "(y_test == heart_disease_decision).mean()"
   ]
  },
  {
   "cell_type": "code",
   "execution_count": null,
   "id": "5794e38d",
   "metadata": {},
   "outputs": [],
   "source": []
  }
 ],
 "metadata": {
  "kernelspec": {
   "display_name": "Python 3 (ipykernel)",
   "language": "python",
   "name": "python3"
  },
  "language_info": {
   "codemirror_mode": {
    "name": "ipython",
    "version": 3
   },
   "file_extension": ".py",
   "mimetype": "text/x-python",
   "name": "python",
   "nbconvert_exporter": "python",
   "pygments_lexer": "ipython3",
   "version": "3.11.5"
  }
 },
 "nbformat": 4,
 "nbformat_minor": 5
}
