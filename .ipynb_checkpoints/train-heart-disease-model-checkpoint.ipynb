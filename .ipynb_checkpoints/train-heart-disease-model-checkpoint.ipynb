{
 "cells": [
  {
   "cell_type": "code",
   "execution_count": 1,
   "id": "93f04602",
   "metadata": {},
   "outputs": [],
   "source": [
    "import pandas as pd\n",
    "import numpy as np\n",
    "\n",
    "from sklearn.model_selection import train_test_split\n",
    "from sklearn.model_selection import KFold\n",
    "\n",
    "from sklearn.feature_extraction import DictVectorizer\n",
    "from sklearn.linear_model import LogisticRegression\n",
    "from sklearn.metrics import roc_auc_score"
   ]
  },
  {
   "cell_type": "code",
   "execution_count": 2,
   "id": "e1c9437b",
   "metadata": {},
   "outputs": [],
   "source": [
    "df = pd.read_csv('Heart_Disease_Prediction.csv')\n",
    "\n",
    "df.columns = df.columns.str.lower().str.replace(' ', '_')\n",
    "\n",
    "categorical_columns = list(df.dtypes[df.dtypes == 'object'].index)\n",
    "\n",
    "for c in categorical_columns:\n",
    "    df[c] = df[c].str.lower().str.replace(' ', '_')\n",
    "\n",
    "sex_values = {\n",
    "    0: \"female\",\n",
    "    1: \"male\"\n",
    "}\n",
    "df.sex = df.sex.map(sex_values)\n",
    "\n",
    "fbs_values = {\n",
    "    0: \"false\",\n",
    "    1: \"true\"\n",
    "}\n",
    "df.fbs_over_120 = df.fbs_over_120.map(fbs_values)\n",
    "\n",
    "exercise_angina_values = {\n",
    "    0: \"no\",\n",
    "    1: \"yes\"\n",
    "}\n",
    "df.exercise_angina = df.exercise_angina.map(exercise_angina_values)\n",
    "\n",
    "df.heart_disease = (df.heart_disease == \"presence\").astype(int)"
   ]
  },
  {
   "cell_type": "code",
   "execution_count": 3,
   "id": "556e40c2",
   "metadata": {},
   "outputs": [],
   "source": [
    "df_full_train, df_test = train_test_split(df, test_size=0.2, random_state=1)"
   ]
  },
  {
   "cell_type": "code",
   "execution_count": 4,
   "id": "9e66066d",
   "metadata": {},
   "outputs": [],
   "source": [
    "numerical = [\"age\",\"bp\",\"cholesterol\",\"max_hr\",\"st_depression\"]\n",
    "\n",
    "categorical = ['sex', 'chest_pain_type', 'fbs_over_120',\n",
    "       'ekg_results', 'exercise_angina',\n",
    "       'slope_of_st', 'number_of_vessels_fluro', 'thallium']"
   ]
  },
  {
   "cell_type": "code",
   "execution_count": 6,
   "id": "3e617286",
   "metadata": {},
   "outputs": [],
   "source": [
    "def train(df_train, y_train, C=0.1):\n",
    "    dicts = df_train[categorical + numerical].to_dict(orient='records')\n",
    "    \n",
    "    dv = DictVectorizer (sparse=False)\n",
    "    X_train = dv.fit_transform(dicts)\n",
    "    \n",
    "    model = LogisticRegression(C=C, max_iter = 1000)\n",
    "    model.fit(X_train, y_train)\n",
    "    return dv, model"
   ]
  },
  {
   "cell_type": "code",
   "execution_count": 7,
   "id": "8500fd79",
   "metadata": {},
   "outputs": [],
   "source": [
    "def predict(df, dv, model):\n",
    "    dicts = df[categorical + numerical].to_dict(orient='records')\n",
    "    X = dv.transform(dicts)\n",
    "    y_pred = model.predict_proba(X)[:,1]\n",
    "    \n",
    "    return y_pred"
   ]
  },
  {
   "cell_type": "code",
   "execution_count": 8,
   "id": "b0144dd7",
   "metadata": {},
   "outputs": [],
   "source": [
    "C = 0.1\n",
    "n_splits = 5"
   ]
  },
  {
   "cell_type": "code",
   "execution_count": 11,
   "id": "ed6e0316",
   "metadata": {},
   "outputs": [
    {
     "name": "stdout",
     "output_type": "stream",
     "text": [
      "C=0.1 0.899 +- 0.027\n"
     ]
    }
   ],
   "source": [
    "kfold = KFold(n_splits=n_splits, shuffle=True, random_state=1)\n",
    "\n",
    "scores = []\n",
    "\n",
    "for train_idx, val_idx in kfold.split(df_full_train):\n",
    "        df_train = df_full_train.iloc[train_idx]\n",
    "        df_val = df_full_train.iloc[val_idx]\n",
    "\n",
    "        y_train = df_train.heart_disease.values\n",
    "        y_val = df_val.heart_disease.values\n",
    "\n",
    "        dv, model = train(df_train, y_train, C=C)\n",
    "        y_pred = predict(df_val, dv, model)\n",
    "        auc = roc_auc_score(y_val, y_pred)\n",
    "        scores.append(auc)\n",
    "print('C=%s %.3f +- %.3f' % (C, np.mean(scores), np.std(scores)))"
   ]
  },
  {
   "cell_type": "code",
   "execution_count": 13,
   "id": "25a237a7",
   "metadata": {},
   "outputs": [
    {
     "data": {
      "text/plain": [
       "0.9102384291725105"
      ]
     },
     "execution_count": 13,
     "metadata": {},
     "output_type": "execute_result"
    }
   ],
   "source": [
    "dv, model = train(df_full_train, df_full_train.heart_disease.values, C=0.1)\n",
    "y_pred = predict(df_test, dv, model)\n",
    "\n",
    "y_test = df_test.heart_disease.values\n",
    "auc = roc_auc_score(y_test, y_pred)\n",
    "auc"
   ]
  }
 ],
 "metadata": {
  "kernelspec": {
   "display_name": "Python 3 (ipykernel)",
   "language": "python",
   "name": "python3"
  },
  "language_info": {
   "codemirror_mode": {
    "name": "ipython",
    "version": 3
   },
   "file_extension": ".py",
   "mimetype": "text/x-python",
   "name": "python",
   "nbconvert_exporter": "python",
   "pygments_lexer": "ipython3",
   "version": "3.11.5"
  }
 },
 "nbformat": 4,
 "nbformat_minor": 5
}
