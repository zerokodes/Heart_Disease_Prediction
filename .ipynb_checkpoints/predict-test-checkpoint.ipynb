{
 "cells": [
  {
   "cell_type": "code",
   "execution_count": 1,
   "id": "abc41a1c",
   "metadata": {},
   "outputs": [
    {
     "data": {
      "application/javascript": [
       "IPython.notebook.set_autosave_interval(0)"
      ]
     },
     "metadata": {},
     "output_type": "display_data"
    },
    {
     "name": "stdout",
     "output_type": "stream",
     "text": [
      "Autosave disabled\n"
     ]
    }
   ],
   "source": [
    "%autosave 0"
   ]
  },
  {
   "cell_type": "code",
   "execution_count": 2,
   "id": "8f1da4ba",
   "metadata": {},
   "outputs": [],
   "source": [
    "import requests"
   ]
  },
  {
   "cell_type": "code",
   "execution_count": 3,
   "id": "125d74e7",
   "metadata": {},
   "outputs": [],
   "source": [
    "url = 'http://localhost:9696/predict'"
   ]
  },
  {
   "cell_type": "code",
   "execution_count": null,
   "id": "4c7cf158",
   "metadata": {},
   "outputs": [],
   "source": [
    "patient = {\n",
    "    'age': 70,\n",
    "    'sex': 'male',\n",
    "    'chest_pain_type': 4,\n",
    "    'bp': 130,\n",
    "    'cholesterol': 322,\n",
    "    'fbs_over_120': 'false',\n",
    "    'ekg_results': 2,\n",
    "    'max_hr': 109,\n",
    "    'exercise_angina': 'n0',\n",
    "    'st_depression': 2.4,\n",
    "    'slope_of_st': 2,\n",
    "    'number_of_vessels_fluro': 3,\n",
    "    'thallium': 3\n",
    "}"
   ]
  }
 ],
 "metadata": {
  "kernelspec": {
   "display_name": "Python 3 (ipykernel)",
   "language": "python",
   "name": "python3"
  },
  "language_info": {
   "codemirror_mode": {
    "name": "ipython",
    "version": 3
   },
   "file_extension": ".py",
   "mimetype": "text/x-python",
   "name": "python",
   "nbconvert_exporter": "python",
   "pygments_lexer": "ipython3",
   "version": "3.11.5"
  }
 },
 "nbformat": 4,
 "nbformat_minor": 5
}
